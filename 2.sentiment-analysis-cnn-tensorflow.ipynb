{
 "cells": [
  {
   "cell_type": "code",
   "execution_count": 1,
   "id": "4200fdcc",
   "metadata": {
    "_cell_guid": "b1076dfc-b9ad-4769-8c92-a6c4dae69d19",
    "_uuid": "8f2839f25d086af736a60e9eeb907d3b93b6e0e5",
    "execution": {
     "iopub.execute_input": "2022-09-12T11:14:20.824567Z",
     "iopub.status.busy": "2022-09-12T11:14:20.823714Z",
     "iopub.status.idle": "2022-09-12T11:14:33.556220Z",
     "shell.execute_reply": "2022-09-12T11:14:33.555236Z"
    },
    "papermill": {
     "duration": 12.741701,
     "end_time": "2022-09-12T11:14:33.559076",
     "exception": false,
     "start_time": "2022-09-12T11:14:20.817375",
     "status": "completed"
    },
    "tags": []
   },
   "outputs": [],
   "source": [
    "import numpy as np\n",
    "import pandas as pd\n",
    "import tensorflow as tf\n",
    "from tensorflow import keras\n",
    "import spacy\n",
    "from tensorflow.keras.optimizers import Adadelta\n",
    "import matplotlib.pyplot as plt\n",
    "from sklearn.model_selection import train_test_split\n",
    "from sklearn.model_selection import KFold\n",
    "\n",
    "import gc"
   ]
  },
  {
   "cell_type": "code",
   "execution_count": 2,
   "id": "a2cc80aa",
   "metadata": {
    "execution": {
     "iopub.execute_input": "2022-09-12T11:14:33.569150Z",
     "iopub.status.busy": "2022-09-12T11:14:33.567769Z",
     "iopub.status.idle": "2022-09-12T11:14:34.300736Z",
     "shell.execute_reply": "2022-09-12T11:14:34.299617Z"
    },
    "papermill": {
     "duration": 0.740423,
     "end_time": "2022-09-12T11:14:34.303335",
     "exception": false,
     "start_time": "2022-09-12T11:14:33.562912",
     "status": "completed"
    },
    "tags": []
   },
   "outputs": [],
   "source": [
    "# read data saved in the previous notebook\n",
    "train = pd.read_pickle('../input/longreview/train_review')\n",
    "test = pd.read_pickle('../input/longreview/test_review')"
   ]
  },
  {
   "cell_type": "code",
   "execution_count": 3,
   "id": "18d590bc",
   "metadata": {
    "execution": {
     "iopub.execute_input": "2022-09-12T11:14:34.313116Z",
     "iopub.status.busy": "2022-09-12T11:14:34.311830Z",
     "iopub.status.idle": "2022-09-12T11:14:37.806773Z",
     "shell.execute_reply": "2022-09-12T11:14:37.805720Z"
    },
    "papermill": {
     "duration": 3.502018,
     "end_time": "2022-09-12T11:14:37.809162",
     "exception": false,
     "start_time": "2022-09-12T11:14:34.307144",
     "status": "completed"
    },
    "tags": []
   },
   "outputs": [],
   "source": [
    "nlp=spacy.load('en_core_web_lg', disable=['tok2vec', 'tagger', 'parser', 'attribute_ruler', 'lemmatizer', 'ner'])"
   ]
  },
  {
   "cell_type": "code",
   "execution_count": 4,
   "id": "6fdf4605",
   "metadata": {
    "execution": {
     "iopub.execute_input": "2022-09-12T11:14:37.822563Z",
     "iopub.status.busy": "2022-09-12T11:14:37.821956Z",
     "iopub.status.idle": "2022-09-12T11:14:37.828818Z",
     "shell.execute_reply": "2022-09-12T11:14:37.827887Z"
    },
    "papermill": {
     "duration": 0.014751,
     "end_time": "2022-09-12T11:14:37.831758",
     "exception": false,
     "start_time": "2022-09-12T11:14:37.817007",
     "status": "completed"
    },
    "tags": []
   },
   "outputs": [
    {
     "name": "stdout",
     "output_type": "stream",
     "text": [
      "CPU times: user 3 µs, sys: 1 µs, total: 4 µs\n",
      "Wall time: 8.34 µs\n"
     ]
    }
   ],
   "source": [
    "%%time\n",
    "#maximum length of reviews\n",
    "def len_rev(data):\n",
    "    leng={}\n",
    "    for i, r in enumerate(data):\n",
    "        leng.update({i:len(r.split(\" \"))})\n",
    "    return leng\n"
   ]
  },
  {
   "cell_type": "code",
   "execution_count": 5,
   "id": "5f45513d",
   "metadata": {
    "execution": {
     "iopub.execute_input": "2022-09-12T11:14:37.840991Z",
     "iopub.status.busy": "2022-09-12T11:14:37.840095Z",
     "iopub.status.idle": "2022-09-12T11:14:38.923785Z",
     "shell.execute_reply": "2022-09-12T11:14:38.922821Z"
    },
    "papermill": {
     "duration": 1.090736,
     "end_time": "2022-09-12T11:14:38.925953",
     "exception": false,
     "start_time": "2022-09-12T11:14:37.835217",
     "status": "completed"
    },
    "tags": []
   },
   "outputs": [
    {
     "data": {
      "image/png": "[encoded data removed]",
      "text/plain": [
       "<Figure size 1008x288 with 2 Axes>"
      ]
     },
     "metadata": {
      "needs_background": "light"
     },
     "output_type": "display_data"
    }
   ],
   "source": [
    "fig,ax=plt.subplots(1,2, figsize=(14,4))\n",
    "ax[0].hist(len_rev(train.review).values())\n",
    "ax[0].set_xlabel(\"train review lengths\")\n",
    "ax[0].set_ylabel(\"count\")\n",
    "ax[1].hist(len_rev(test.review).values())\n",
    "ax[1].set_xlabel(\"test review lengths\")\n",
    "plt.tight_layout()\n",
    "plt.show()"
   ]
  },
  {
   "cell_type": "markdown",
   "id": "02b2db02",
   "metadata": {
    "papermill": {
     "duration": 0.00394,
     "end_time": "2022-09-12T11:14:38.933964",
     "exception": false,
     "start_time": "2022-09-12T11:14:38.930024",
     "status": "completed"
    },
    "tags": []
   },
   "source": [
    "> reviews with length less than 300 words are the most common"
   ]
  },
  {
   "cell_type": "code",
   "execution_count": 6,
   "id": "cc1a5157",
   "metadata": {
    "execution": {
     "iopub.execute_input": "2022-09-12T11:14:38.942918Z",
     "iopub.status.busy": "2022-09-12T11:14:38.942570Z",
     "iopub.status.idle": "2022-09-12T11:14:38.949990Z",
     "shell.execute_reply": "2022-09-12T11:14:38.948923Z"
    },
    "papermill": {
     "duration": 0.014113,
     "end_time": "2022-09-12T11:14:38.951960",
     "exception": false,
     "start_time": "2022-09-12T11:14:38.937847",
     "status": "completed"
    },
    "tags": []
   },
   "outputs": [],
   "source": [
    "maxl=300\n",
    "#convert a review to a list of words, each word represented by a vector: output 2d array\n",
    "def rev_2d_vec(review):\n",
    "    emb_rev=[]\n",
    "    for token in nlp(review):\n",
    "        emb_rev.append(token.vector)\n",
    "    a=np.array(emb_rev)\n",
    "    a.resize(maxl,300)  # pad with zero when having lower shape\n",
    "    a=(a-a.mean())/a.std()\n",
    "    return  a \n",
    "\n",
    "class datagen:\n",
    "    def __init__(self, x,y=None):\n",
    "        self.x=x\n",
    "        self.y=y\n",
    "        \n",
    "    def __call__(self):\n",
    "        if self.y is None:\n",
    "            for review in self.x:\n",
    "                yield rev_2d_vec(review)\n",
    "        else:\n",
    "            for review, sentiment in zip(self.x,self.y):\n",
    "                yield rev_2d_vec(review), sentiment\n",
    "        "
   ]
  },
  {
   "cell_type": "code",
   "execution_count": 7,
   "id": "31798d53",
   "metadata": {
    "execution": {
     "iopub.execute_input": "2022-09-12T11:14:38.962538Z",
     "iopub.status.busy": "2022-09-12T11:14:38.961012Z",
     "iopub.status.idle": "2022-09-12T11:14:48.014186Z",
     "shell.execute_reply": "2022-09-12T11:14:48.010940Z"
    },
    "papermill": {
     "duration": 9.060101,
     "end_time": "2022-09-12T11:14:48.016192",
     "exception": false,
     "start_time": "2022-09-12T11:14:38.956091",
     "status": "completed"
    },
    "tags": []
   },
   "outputs": [
    {
     "name": "stderr",
     "output_type": "stream",
     "text": [
      "2022-09-12 11:14:39.238563: I tensorflow/stream_executor/cuda/cuda_gpu_executor.cc:937] successful NUMA node read from SysFS had negative value (-1), but there must be at least one NUMA node, so returning NUMA node zero\n"
     ]
    },
    {
     "name": "stdout",
     "output_type": "stream",
     "text": [
      "Model: \"model\"\n",
      "_________________________________________________________________\n",
      "Layer (type)                 Output Shape              Param #   \n",
      "=================================================================\n",
      "input_1 (InputLayer)         [(None, 300, 300)]        0         \n",
      "_________________________________________________________________\n",
      "reshape (Reshape)            (None, 300, 300, 1)       0         \n",
      "_________________________________________________________________\n",
      "conv2d (Conv2D)              (None, 293, 293, 32)      2080      \n",
      "_________________________________________________________________\n",
      "max_pooling2d (MaxPooling2D) (None, 146, 146, 32)      0         \n",
      "_________________________________________________________________\n",
      "conv2d_1 (Conv2D)            (None, 139, 139, 64)      131136    \n",
      "_________________________________________________________________\n",
      "max_pooling2d_1 (MaxPooling2 (None, 69, 69, 64)        0         \n",
      "_________________________________________________________________\n",
      "flatten (Flatten)            (None, 304704)            0         \n",
      "_________________________________________________________________\n",
      "dropout (Dropout)            (None, 304704)            0         \n",
      "_________________________________________________________________\n",
      "dense (Dense)                (None, 128)               39002240  \n",
      "_________________________________________________________________\n",
      "dense_1 (Dense)              (None, 1)                 129       \n",
      "=================================================================\n",
      "Total params: 39,135,585\n",
      "Trainable params: 39,135,585\n",
      "Non-trainable params: 0\n",
      "_________________________________________________________________\n"
     ]
    },
    {
     "name": "stderr",
     "output_type": "stream",
     "text": [
      "2022-09-12 11:14:39.239804: I tensorflow/stream_executor/cuda/cuda_gpu_executor.cc:937] successful NUMA node read from SysFS had negative value (-1), but there must be at least one NUMA node, so returning NUMA node zero\n",
      "2022-09-12 11:14:39.240508: I tensorflow/stream_executor/cuda/cuda_gpu_executor.cc:937] successful NUMA node read from SysFS had negative value (-1), but there must be at least one NUMA node, so returning NUMA node zero\n",
      "2022-09-12 11:14:39.241298: I tensorflow/core/platform/cpu_feature_guard.cc:142] This TensorFlow binary is optimized with oneAPI Deep Neural Network Library (oneDNN) to use the following CPU instructions in performance-critical operations:  AVX2 AVX512F FMA\n",
      "To enable them in other operations, rebuild TensorFlow with the appropriate compiler flags.\n",
      "2022-09-12 11:14:39.241618: I tensorflow/stream_executor/cuda/cuda_gpu_executor.cc:937] successful NUMA node read from SysFS had negative value (-1), but there must be at least one NUMA node, so returning NUMA node zero\n",
      "2022-09-12 11:14:39.242404: I tensorflow/stream_executor/cuda/cuda_gpu_executor.cc:937] successful NUMA node read from SysFS had negative value (-1), but there must be at least one NUMA node, so returning NUMA node zero\n",
      "2022-09-12 11:14:39.243109: I tensorflow/stream_executor/cuda/cuda_gpu_executor.cc:937] successful NUMA node read from SysFS had negative value (-1), but there must be at least one NUMA node, so returning NUMA node zero\n",
      "2022-09-12 11:14:47.574997: I tensorflow/stream_executor/cuda/cuda_gpu_executor.cc:937] successful NUMA node read from SysFS had negative value (-1), but there must be at least one NUMA node, so returning NUMA node zero\n",
      "2022-09-12 11:14:47.575835: I tensorflow/stream_executor/cuda/cuda_gpu_executor.cc:937] successful NUMA node read from SysFS had negative value (-1), but there must be at least one NUMA node, so returning NUMA node zero\n",
      "2022-09-12 11:14:47.576555: I tensorflow/stream_executor/cuda/cuda_gpu_executor.cc:937] successful NUMA node read from SysFS had negative value (-1), but there must be at least one NUMA node, so returning NUMA node zero\n",
      "2022-09-12 11:14:47.577166: I tensorflow/core/common_runtime/gpu/gpu_device.cc:1510] Created device /job:localhost/replica:0/task:0/device:GPU:0 with 14653 MB memory:  -> device: 0, name: Tesla P100-PCIE-16GB, pci bus id: 0000:00:04.0, compute capability: 6.0\n"
     ]
    }
   ],
   "source": [
    "# del model\n",
    "tf.keras.backend.clear_session()\n",
    "gc.collect()\n",
    "def get_model():\n",
    "    inputs=tf.keras.Input(shape=(maxl,300))\n",
    "    x=tf.keras.layers.Reshape((maxl,300,1))(inputs)\n",
    "    x=tf.keras.layers.Conv2D(32, 8, padding='valid', activation='relu')(x)\n",
    "    x=tf.keras.layers.MaxPooling2D()(x)\n",
    "    x=tf.keras.layers.Conv2D(64, 8, padding='valid', activation='relu')(x)\n",
    "    x=tf.keras.layers.MaxPooling2D()(x)\n",
    "    x=tf.keras.layers.Flatten()(x)\n",
    "    x=tf.keras.layers.Dropout(0.5)(x)\n",
    "    x=tf.keras.layers.Dense(128, activation='relu')(x)\n",
    "    outputs=tf.keras.layers.Dense(1, \"sigmoid\")(x)\n",
    "    model = tf.keras.Model(inputs, outputs)\n",
    "    opt = Adadelta(learning_rate=0.01, rho=0.95, epsilon=1e-6)\n",
    "    model.compile(optimizer=opt,\n",
    "              loss=tf.keras.losses.BinaryCrossentropy(),\n",
    "              metrics=['accuracy',tf.keras.metrics.AUC()])\n",
    "    return model\n",
    "model=get_model()\n",
    "model.summary()"
   ]
  },
  {
   "cell_type": "code",
   "execution_count": 8,
   "id": "edd77d7e",
   "metadata": {
    "execution": {
     "iopub.execute_input": "2022-09-12T11:14:48.026989Z",
     "iopub.status.busy": "2022-09-12T11:14:48.025424Z",
     "iopub.status.idle": "2022-09-12T11:14:48.031807Z",
     "shell.execute_reply": "2022-09-12T11:14:48.030869Z"
    },
    "papermill": {
     "duration": 0.013566,
     "end_time": "2022-09-12T11:14:48.033929",
     "exception": false,
     "start_time": "2022-09-12T11:14:48.020363",
     "status": "completed"
    },
    "tags": []
   },
   "outputs": [],
   "source": [
    "epochs=20\n",
    "batch_size=128\n",
    "\n",
    "\n",
    "# checkpoints = tf.keras.callbacks.ModelCheckpoint('/tmp/checkpoint',\n",
    "#                                                  monitor='val_auc',\n",
    "#                                                  mode=\"max\",\n",
    "#                                                  verbose=1,\n",
    "#                                                  save_best_only=True,\n",
    "#                                                  save_weights_only=True)\n",
    "\n",
    "# earlystop = tf.keras.callbacks.EarlyStopping(\n",
    "#     monitor='val_auc',\n",
    "#     min_delta=0,\n",
    "#     patience=4,\n",
    "#     verbose=1)\n",
    "\n",
    "reduce_lr = tf.keras.callbacks.ReduceLROnPlateau(monitor='val_loss', factor=0.2,\n",
    "                              patience=5, min_lr=0.001)\n"
   ]
  },
  {
   "cell_type": "code",
   "execution_count": 9,
   "id": "b85218f7",
   "metadata": {
    "execution": {
     "iopub.execute_input": "2022-09-12T11:14:48.043759Z",
     "iopub.status.busy": "2022-09-12T11:14:48.043476Z",
     "iopub.status.idle": "2022-09-12T11:41:56.154321Z",
     "shell.execute_reply": "2022-09-12T11:41:56.153226Z"
    },
    "papermill": {
     "duration": 1628.118021,
     "end_time": "2022-09-12T11:41:56.156474",
     "exception": false,
     "start_time": "2022-09-12T11:14:48.038453",
     "status": "completed"
    },
    "tags": []
   },
   "outputs": [
    {
     "name": "stdout",
     "output_type": "stream",
     "text": [
      "Epoch 1/20\n"
     ]
    },
    {
     "name": "stderr",
     "output_type": "stream",
     "text": [
      "2022-09-12 11:14:48.153948: I tensorflow/compiler/mlir/mlir_graph_optimization_pass.cc:185] None of the MLIR Optimization Passes are enabled (registered 2)\n",
      "2022-09-12 11:14:50.107774: I tensorflow/stream_executor/cuda/cuda_dnn.cc:369] Loaded cuDNN version 8005\n"
     ]
    },
    {
     "name": "stdout",
     "output_type": "stream",
     "text": [
      "157/157 [==============================] - 99s 562ms/step - loss: 0.7029 - accuracy: 0.5153 - auc: 0.5198 - val_loss: 0.6908 - val_accuracy: 0.5400 - val_auc: 0.5508\n",
      "Epoch 2/20\n",
      "157/157 [==============================] - 80s 508ms/step - loss: 0.6872 - accuracy: 0.5457 - auc: 0.5630 - val_loss: 0.6891 - val_accuracy: 0.5112 - val_auc: 0.6460\n",
      "Epoch 3/20\n",
      "157/157 [==============================] - 81s 516ms/step - loss: 0.6650 - accuracy: 0.5992 - auc: 0.6421 - val_loss: 0.6615 - val_accuracy: 0.5538 - val_auc: 0.7501\n",
      "Epoch 4/20\n",
      "157/157 [==============================] - 80s 509ms/step - loss: 0.6196 - accuracy: 0.6603 - auc: 0.7234 - val_loss: 0.6361 - val_accuracy: 0.6094 - val_auc: 0.8052\n",
      "Epoch 5/20\n",
      "157/157 [==============================] - 80s 512ms/step - loss: 0.5657 - accuracy: 0.7100 - auc: 0.7829 - val_loss: 0.5768 - val_accuracy: 0.6882 - val_auc: 0.8343\n",
      "Epoch 6/20\n",
      "157/157 [==============================] - 80s 510ms/step - loss: 0.5190 - accuracy: 0.7448 - auc: 0.8242 - val_loss: 0.5662 - val_accuracy: 0.7030 - val_auc: 0.8492\n",
      "Epoch 7/20\n",
      "157/157 [==============================] - 80s 510ms/step - loss: 0.4858 - accuracy: 0.7685 - auc: 0.8486 - val_loss: 0.5211 - val_accuracy: 0.7376 - val_auc: 0.8580\n",
      "Epoch 8/20\n",
      "157/157 [==============================] - 80s 507ms/step - loss: 0.4619 - accuracy: 0.7853 - auc: 0.8650 - val_loss: 0.5042 - val_accuracy: 0.7526 - val_auc: 0.8642\n",
      "Epoch 9/20\n",
      "157/157 [==============================] - 80s 510ms/step - loss: 0.4435 - accuracy: 0.7970 - auc: 0.8766 - val_loss: 0.4892 - val_accuracy: 0.7620 - val_auc: 0.8690\n",
      "Epoch 10/20\n",
      "157/157 [==============================] - 80s 512ms/step - loss: 0.4281 - accuracy: 0.8062 - auc: 0.8858 - val_loss: 0.4701 - val_accuracy: 0.7748 - val_auc: 0.8730\n",
      "Epoch 11/20\n",
      "157/157 [==============================] - 80s 510ms/step - loss: 0.4140 - accuracy: 0.8141 - auc: 0.8940 - val_loss: 0.4700 - val_accuracy: 0.7776 - val_auc: 0.8762\n",
      "Epoch 12/20\n",
      "157/157 [==============================] - 80s 512ms/step - loss: 0.4030 - accuracy: 0.8220 - auc: 0.9001 - val_loss: 0.4521 - val_accuracy: 0.7884 - val_auc: 0.8785\n",
      "Epoch 13/20\n",
      "157/157 [==============================] - 80s 511ms/step - loss: 0.3918 - accuracy: 0.8286 - auc: 0.9062 - val_loss: 0.4574 - val_accuracy: 0.7854 - val_auc: 0.8801\n",
      "Epoch 14/20\n",
      "157/157 [==============================] - 81s 514ms/step - loss: 0.3813 - accuracy: 0.8347 - auc: 0.9116 - val_loss: 0.4346 - val_accuracy: 0.8006 - val_auc: 0.8819\n",
      "Epoch 15/20\n",
      "157/157 [==============================] - 80s 511ms/step - loss: 0.3713 - accuracy: 0.8419 - auc: 0.9167 - val_loss: 0.4335 - val_accuracy: 0.8018 - val_auc: 0.8840\n",
      "Epoch 16/20\n",
      "157/157 [==============================] - 80s 508ms/step - loss: 0.3620 - accuracy: 0.8453 - auc: 0.9214 - val_loss: 0.4323 - val_accuracy: 0.8016 - val_auc: 0.8837\n",
      "Epoch 17/20\n",
      "157/157 [==============================] - 80s 512ms/step - loss: 0.3546 - accuracy: 0.8486 - auc: 0.9248 - val_loss: 0.4300 - val_accuracy: 0.8052 - val_auc: 0.8864\n",
      "Epoch 18/20\n",
      "157/157 [==============================] - 80s 509ms/step - loss: 0.3445 - accuracy: 0.8548 - auc: 0.9295 - val_loss: 0.4268 - val_accuracy: 0.8054 - val_auc: 0.8867\n",
      "Epoch 19/20\n",
      "157/157 [==============================] - 80s 513ms/step - loss: 0.3356 - accuracy: 0.8604 - auc: 0.9338 - val_loss: 0.4254 - val_accuracy: 0.8070 - val_auc: 0.8880\n",
      "Epoch 20/20\n",
      "157/157 [==============================] - 80s 509ms/step - loss: 0.3273 - accuracy: 0.8636 - auc: 0.9373 - val_loss: 0.4242 - val_accuracy: 0.8080 - val_auc: 0.8887\n",
      "CPU times: user 22min 17s, sys: 2min 9s, total: 24min 26s\n",
      "Wall time: 27min 8s\n"
     ]
    }
   ],
   "source": [
    "%%time\n",
    "# prepare data\n",
    "xtrain,xtest,ytrain,ytest=train_test_split(train.review,train.sentiment, test_size=0.2, stratify= train.sentiment)\n",
    "\n",
    "train_ds = tf.data.Dataset.from_generator(datagen(xtrain, ytrain),output_signature=(tf.TensorSpec(shape=(maxl,300),dtype=tf.float32),\n",
    "                                                                          tf.TensorSpec(shape=(), dtype=tf.int32))).batch(batch_size)\n",
    "\n",
    "test_ds = tf.data.Dataset.from_generator(datagen(xtest, ytest),output_signature=(tf.TensorSpec(shape=(maxl,300),dtype=tf.float32),\n",
    "                                                                          tf.TensorSpec(shape=(), dtype=tf.int32))).batch(batch_size)\n",
    "\n",
    "\n",
    "history = model.fit(train_ds,validation_data=test_ds, epochs=epochs, callbacks=[reduce_lr])"
   ]
  },
  {
   "cell_type": "code",
   "execution_count": 10,
   "id": "d9316532",
   "metadata": {
    "execution": {
     "iopub.execute_input": "2022-09-12T11:41:56.498501Z",
     "iopub.status.busy": "2022-09-12T11:41:56.498141Z",
     "iopub.status.idle": "2022-09-12T13:32:30.748953Z",
     "shell.execute_reply": "2022-09-12T13:32:30.747538Z"
    },
    "papermill": {
     "duration": 6634.426268,
     "end_time": "2022-09-12T13:32:30.751969",
     "exception": false,
     "start_time": "2022-09-12T11:41:56.325701",
     "status": "completed"
    },
    "tags": []
   },
   "outputs": [
    {
     "name": "stdout",
     "output_type": "stream",
     "text": [
      "======================== Fold 1 =============================\n",
      "Epoch 1/20\n",
      "125/125 [==============================] - 63s 497ms/step - loss: 0.7033 - accuracy: 0.5174 - auc_1: 0.5242 - val_loss: 0.6930 - val_accuracy: 0.5170 - val_auc_1: 0.5510\n",
      "Epoch 2/20\n",
      "125/125 [==============================] - 61s 488ms/step - loss: 0.6848 - accuracy: 0.5451 - auc_1: 0.5714 - val_loss: 0.6684 - val_accuracy: 0.6315 - val_auc_1: 0.6825\n",
      "Epoch 3/20\n",
      "125/125 [==============================] - 64s 513ms/step - loss: 0.6597 - accuracy: 0.6096 - auc_1: 0.6526 - val_loss: 0.6283 - val_accuracy: 0.6875 - val_auc_1: 0.7644\n",
      "Epoch 4/20\n",
      "125/125 [==============================] - 64s 511ms/step - loss: 0.6183 - accuracy: 0.6611 - auc_1: 0.7235 - val_loss: 0.5960 - val_accuracy: 0.6670 - val_auc_1: 0.8129\n",
      "Epoch 5/20\n",
      "125/125 [==============================] - 64s 515ms/step - loss: 0.5722 - accuracy: 0.7039 - auc_1: 0.7761 - val_loss: 0.5832 - val_accuracy: 0.6727 - val_auc_1: 0.8418\n",
      "Epoch 6/20\n",
      "125/125 [==============================] - 62s 493ms/step - loss: 0.5288 - accuracy: 0.7351 - auc_1: 0.8160 - val_loss: 0.5254 - val_accuracy: 0.7358 - val_auc_1: 0.8566\n",
      "Epoch 7/20\n",
      "125/125 [==============================] - 64s 515ms/step - loss: 0.4979 - accuracy: 0.7589 - auc_1: 0.8399 - val_loss: 0.4680 - val_accuracy: 0.7770 - val_auc_1: 0.8645\n",
      "Epoch 8/20\n",
      "125/125 [==============================] - 64s 513ms/step - loss: 0.4721 - accuracy: 0.7763 - auc_1: 0.8582 - val_loss: 0.4544 - val_accuracy: 0.7857 - val_auc_1: 0.8719\n",
      "Epoch 9/20\n",
      "125/125 [==============================] - 64s 516ms/step - loss: 0.4507 - accuracy: 0.7919 - auc_1: 0.8723 - val_loss: 0.4510 - val_accuracy: 0.7822 - val_auc_1: 0.8788\n",
      "Epoch 10/20\n",
      "125/125 [==============================] - 64s 511ms/step - loss: 0.4335 - accuracy: 0.8023 - auc_1: 0.8831 - val_loss: 0.4352 - val_accuracy: 0.7955 - val_auc_1: 0.8820\n",
      "Epoch 11/20\n",
      "125/125 [==============================] - 64s 516ms/step - loss: 0.4172 - accuracy: 0.8116 - auc_1: 0.8928 - val_loss: 0.4326 - val_accuracy: 0.7972 - val_auc_1: 0.8848\n",
      "Epoch 12/20\n",
      "125/125 [==============================] - 64s 516ms/step - loss: 0.4035 - accuracy: 0.8202 - auc_1: 0.9002 - val_loss: 0.4324 - val_accuracy: 0.7987 - val_auc_1: 0.8877\n",
      "Epoch 13/20\n",
      "125/125 [==============================] - 65s 517ms/step - loss: 0.3904 - accuracy: 0.8306 - auc_1: 0.9074 - val_loss: 0.4200 - val_accuracy: 0.8045 - val_auc_1: 0.8900\n",
      "Epoch 14/20\n",
      "125/125 [==============================] - 64s 514ms/step - loss: 0.3836 - accuracy: 0.8331 - auc_1: 0.9108 - val_loss: 0.4167 - val_accuracy: 0.8085 - val_auc_1: 0.8922\n",
      "Epoch 15/20\n",
      "125/125 [==============================] - 64s 514ms/step - loss: 0.3687 - accuracy: 0.8425 - auc_1: 0.9185 - val_loss: 0.4127 - val_accuracy: 0.8102 - val_auc_1: 0.8944\n",
      "Epoch 16/20\n",
      "125/125 [==============================] - 62s 498ms/step - loss: 0.3601 - accuracy: 0.8465 - auc_1: 0.9226 - val_loss: 0.4805 - val_accuracy: 0.7680 - val_auc_1: 0.8966\n",
      "Epoch 17/20\n",
      "125/125 [==============================] - 64s 514ms/step - loss: 0.3519 - accuracy: 0.8516 - auc_1: 0.9266 - val_loss: 0.4852 - val_accuracy: 0.7623 - val_auc_1: 0.8978\n",
      "Epoch 18/20\n",
      "125/125 [==============================] - 64s 514ms/step - loss: 0.3372 - accuracy: 0.8614 - auc_1: 0.9338 - val_loss: 0.4115 - val_accuracy: 0.8105 - val_auc_1: 0.8970\n",
      "Epoch 19/20\n",
      "125/125 [==============================] - 64s 513ms/step - loss: 0.3314 - accuracy: 0.8621 - auc_1: 0.9362 - val_loss: 0.4063 - val_accuracy: 0.8202 - val_auc_1: 0.8981\n",
      "Epoch 20/20\n",
      "125/125 [==============================] - 64s 516ms/step - loss: 0.3218 - accuracy: 0.8646 - auc_1: 0.9403 - val_loss: 0.4045 - val_accuracy: 0.8152 - val_auc_1: 0.8983\n",
      "\n",
      "\n",
      "======================== Fold 2 =============================\n",
      "Epoch 1/20\n",
      "125/125 [==============================] - 63s 502ms/step - loss: 0.7010 - accuracy: 0.5188 - auc: 0.5191 - val_loss: 0.6926 - val_accuracy: 0.5050 - val_auc: 0.5551\n",
      "Epoch 2/20\n",
      "125/125 [==============================] - 62s 498ms/step - loss: 0.6888 - accuracy: 0.5383 - auc: 0.5527 - val_loss: 0.6837 - val_accuracy: 0.5232 - val_auc: 0.6358\n",
      "Epoch 3/20\n",
      "125/125 [==============================] - 64s 514ms/step - loss: 0.6713 - accuracy: 0.5911 - auc: 0.6262 - val_loss: 0.6514 - val_accuracy: 0.6662 - val_auc: 0.7274\n",
      "Epoch 4/20\n",
      "125/125 [==============================] - 63s 502ms/step - loss: 0.6382 - accuracy: 0.6469 - auc: 0.6991 - val_loss: 0.6186 - val_accuracy: 0.6545 - val_auc: 0.7892\n",
      "Epoch 5/20\n",
      "125/125 [==============================] - 64s 513ms/step - loss: 0.5939 - accuracy: 0.6914 - auc: 0.7567 - val_loss: 0.5872 - val_accuracy: 0.6777 - val_auc: 0.8212\n",
      "Epoch 6/20\n",
      "125/125 [==============================] - 64s 514ms/step - loss: 0.5497 - accuracy: 0.7287 - auc: 0.7997 - val_loss: 0.5767 - val_accuracy: 0.6823 - val_auc: 0.8402\n",
      "Epoch 7/20\n",
      "125/125 [==============================] - 64s 514ms/step - loss: 0.5125 - accuracy: 0.7490 - auc: 0.8288 - val_loss: 0.5574 - val_accuracy: 0.7072 - val_auc: 0.8508\n",
      "Epoch 8/20\n",
      "125/125 [==============================] - 62s 497ms/step - loss: 0.4859 - accuracy: 0.7698 - auc: 0.8487 - val_loss: 0.4803 - val_accuracy: 0.7775 - val_auc: 0.8572\n",
      "Epoch 9/20\n",
      "125/125 [==============================] - 64s 515ms/step - loss: 0.4671 - accuracy: 0.7832 - auc: 0.8612 - val_loss: 0.4722 - val_accuracy: 0.7810 - val_auc: 0.8634\n",
      "Epoch 10/20\n",
      "125/125 [==============================] - 63s 502ms/step - loss: 0.4480 - accuracy: 0.7944 - auc: 0.8741 - val_loss: 0.4663 - val_accuracy: 0.7850 - val_auc: 0.8679\n",
      "Epoch 11/20\n",
      "125/125 [==============================] - 64s 515ms/step - loss: 0.4312 - accuracy: 0.8062 - auc: 0.8843 - val_loss: 0.4542 - val_accuracy: 0.7950 - val_auc: 0.8714\n",
      "Epoch 12/20\n",
      "125/125 [==============================] - 63s 502ms/step - loss: 0.4188 - accuracy: 0.8113 - auc: 0.8916 - val_loss: 0.4561 - val_accuracy: 0.7920 - val_auc: 0.8745\n",
      "Epoch 13/20\n",
      "125/125 [==============================] - 64s 514ms/step - loss: 0.4075 - accuracy: 0.8178 - auc: 0.8981 - val_loss: 0.4780 - val_accuracy: 0.7760 - val_auc: 0.8781\n",
      "Epoch 14/20\n",
      "125/125 [==============================] - 64s 516ms/step - loss: 0.3951 - accuracy: 0.8242 - auc: 0.9047 - val_loss: 0.4798 - val_accuracy: 0.7775 - val_auc: 0.8805\n",
      "Epoch 15/20\n",
      "125/125 [==============================] - 64s 513ms/step - loss: 0.3835 - accuracy: 0.8319 - auc: 0.9109 - val_loss: 0.4757 - val_accuracy: 0.7775 - val_auc: 0.8824\n",
      "Epoch 16/20\n",
      "125/125 [==============================] - 64s 512ms/step - loss: 0.3727 - accuracy: 0.8384 - auc: 0.9164 - val_loss: 0.4357 - val_accuracy: 0.7990 - val_auc: 0.8814\n",
      "Epoch 17/20\n",
      "125/125 [==============================] - 64s 515ms/step - loss: 0.3604 - accuracy: 0.8462 - auc: 0.9228 - val_loss: 0.4395 - val_accuracy: 0.7995 - val_auc: 0.8840\n",
      "Epoch 18/20\n",
      "125/125 [==============================] - 64s 511ms/step - loss: 0.3559 - accuracy: 0.8489 - auc: 0.9247 - val_loss: 0.4597 - val_accuracy: 0.7885 - val_auc: 0.8863\n",
      "Epoch 19/20\n",
      "125/125 [==============================] - 64s 514ms/step - loss: 0.3446 - accuracy: 0.8539 - auc: 0.9303 - val_loss: 0.4485 - val_accuracy: 0.7920 - val_auc: 0.8872\n",
      "Epoch 20/20\n",
      "125/125 [==============================] - 64s 514ms/step - loss: 0.3369 - accuracy: 0.8580 - auc: 0.9335 - val_loss: 0.4509 - val_accuracy: 0.7918 - val_auc: 0.8880\n",
      "\n",
      "\n",
      "======================== Fold 3 =============================\n",
      "Epoch 1/20\n",
      "125/125 [==============================] - 65s 518ms/step - loss: 0.7028 - accuracy: 0.5173 - auc: 0.5256 - val_loss: 0.6905 - val_accuracy: 0.5107 - val_auc: 0.5809\n",
      "Epoch 2/20\n",
      "125/125 [==============================] - 64s 514ms/step - loss: 0.6850 - accuracy: 0.5509 - auc: 0.5735 - val_loss: 0.6795 - val_accuracy: 0.5495 - val_auc: 0.6549\n",
      "Epoch 3/20\n",
      "125/125 [==============================] - 64s 514ms/step - loss: 0.6677 - accuracy: 0.5989 - auc: 0.6380 - val_loss: 0.6490 - val_accuracy: 0.6605 - val_auc: 0.7220\n",
      "Epoch 4/20\n",
      "125/125 [==============================] - 65s 520ms/step - loss: 0.6355 - accuracy: 0.6417 - auc: 0.6988 - val_loss: 0.6210 - val_accuracy: 0.6445 - val_auc: 0.7777\n",
      "Epoch 5/20\n",
      "125/125 [==============================] - 65s 517ms/step - loss: 0.5902 - accuracy: 0.6941 - auc: 0.7591 - val_loss: 0.5780 - val_accuracy: 0.6898 - val_auc: 0.8122\n",
      "Epoch 6/20\n",
      "125/125 [==============================] - 65s 517ms/step - loss: 0.5472 - accuracy: 0.7274 - auc: 0.7998 - val_loss: 0.5600 - val_accuracy: 0.7007 - val_auc: 0.8345\n",
      "Epoch 7/20\n",
      "125/125 [==============================] - 64s 516ms/step - loss: 0.5101 - accuracy: 0.7558 - auc: 0.8308 - val_loss: 0.5436 - val_accuracy: 0.7193 - val_auc: 0.8469\n",
      "Epoch 8/20\n",
      "125/125 [==============================] - 64s 516ms/step - loss: 0.4829 - accuracy: 0.7674 - auc: 0.8501 - val_loss: 0.5070 - val_accuracy: 0.7455 - val_auc: 0.8547\n",
      "Epoch 9/20\n",
      "125/125 [==============================] - 65s 519ms/step - loss: 0.4639 - accuracy: 0.7814 - auc: 0.8633 - val_loss: 0.4966 - val_accuracy: 0.7545 - val_auc: 0.8606\n",
      "Epoch 10/20\n",
      "125/125 [==============================] - 64s 517ms/step - loss: 0.4447 - accuracy: 0.7933 - auc: 0.8756 - val_loss: 0.4816 - val_accuracy: 0.7640 - val_auc: 0.8652\n",
      "Epoch 11/20\n",
      "125/125 [==============================] - 65s 517ms/step - loss: 0.4318 - accuracy: 0.8016 - auc: 0.8838 - val_loss: 0.4568 - val_accuracy: 0.7815 - val_auc: 0.8681\n",
      "Epoch 12/20\n",
      "125/125 [==============================] - 64s 516ms/step - loss: 0.4167 - accuracy: 0.8115 - auc: 0.8928 - val_loss: 0.4514 - val_accuracy: 0.7865 - val_auc: 0.8711\n",
      "Epoch 13/20\n",
      "125/125 [==============================] - 64s 516ms/step - loss: 0.4042 - accuracy: 0.8201 - auc: 0.8996 - val_loss: 0.4648 - val_accuracy: 0.7822 - val_auc: 0.8692\n",
      "Epoch 14/20\n",
      "125/125 [==============================] - 64s 513ms/step - loss: 0.3920 - accuracy: 0.8266 - auc: 0.9063 - val_loss: 0.4639 - val_accuracy: 0.7825 - val_auc: 0.8767\n",
      "Epoch 15/20\n",
      "125/125 [==============================] - 64s 516ms/step - loss: 0.3823 - accuracy: 0.8318 - auc: 0.9114 - val_loss: 0.4488 - val_accuracy: 0.7903 - val_auc: 0.8776\n",
      "Epoch 16/20\n",
      "125/125 [==============================] - 64s 516ms/step - loss: 0.3736 - accuracy: 0.8373 - auc: 0.9161 - val_loss: 0.4396 - val_accuracy: 0.7962 - val_auc: 0.8773\n",
      "Epoch 17/20\n",
      "125/125 [==============================] - 64s 516ms/step - loss: 0.3645 - accuracy: 0.8416 - auc: 0.9206 - val_loss: 0.4401 - val_accuracy: 0.7968 - val_auc: 0.8776\n",
      "Epoch 18/20\n",
      "125/125 [==============================] - 65s 518ms/step - loss: 0.3550 - accuracy: 0.8481 - auc: 0.9250 - val_loss: 0.4373 - val_accuracy: 0.7965 - val_auc: 0.8792\n",
      "Epoch 19/20\n",
      "125/125 [==============================] - 64s 511ms/step - loss: 0.3484 - accuracy: 0.8524 - auc: 0.9280 - val_loss: 0.4367 - val_accuracy: 0.7952 - val_auc: 0.8807\n",
      "Epoch 20/20\n",
      "125/125 [==============================] - 64s 511ms/step - loss: 0.3352 - accuracy: 0.8577 - auc: 0.9344 - val_loss: 0.4580 - val_accuracy: 0.7870 - val_auc: 0.8838\n",
      "\n",
      "\n",
      "======================== Fold 4 =============================\n",
      "Epoch 1/20\n",
      "125/125 [==============================] - 61s 484ms/step - loss: 0.7031 - accuracy: 0.5168 - auc: 0.5250 - val_loss: 0.6914 - val_accuracy: 0.5063 - val_auc: 0.5725\n",
      "Epoch 2/20\n",
      "125/125 [==============================] - 63s 507ms/step - loss: 0.6842 - accuracy: 0.5473 - auc: 0.5731 - val_loss: 0.6744 - val_accuracy: 0.6125 - val_auc: 0.6667\n",
      "Epoch 3/20\n",
      "125/125 [==============================] - 64s 513ms/step - loss: 0.6572 - accuracy: 0.6146 - auc: 0.6615 - val_loss: 0.6334 - val_accuracy: 0.6740 - val_auc: 0.7489\n",
      "Epoch 4/20\n",
      "125/125 [==============================] - 64s 508ms/step - loss: 0.6167 - accuracy: 0.6687 - auc: 0.7273 - val_loss: 0.6132 - val_accuracy: 0.6352 - val_auc: 0.8056\n",
      "Epoch 5/20\n",
      "125/125 [==============================] - 64s 510ms/step - loss: 0.5670 - accuracy: 0.7097 - auc: 0.7828 - val_loss: 0.5873 - val_accuracy: 0.6633 - val_auc: 0.8355\n",
      "Epoch 6/20\n",
      "125/125 [==============================] - 60s 483ms/step - loss: 0.5254 - accuracy: 0.7413 - auc: 0.8193 - val_loss: 0.4994 - val_accuracy: 0.7602 - val_auc: 0.8523\n",
      "Epoch 7/20\n",
      "125/125 [==============================] - 65s 517ms/step - loss: 0.4947 - accuracy: 0.7621 - auc: 0.8420 - val_loss: 0.4829 - val_accuracy: 0.7695 - val_auc: 0.8637\n",
      "Epoch 8/20\n",
      "125/125 [==============================] - 60s 480ms/step - loss: 0.4697 - accuracy: 0.7788 - auc: 0.8592 - val_loss: 0.4584 - val_accuracy: 0.7857 - val_auc: 0.8683\n",
      "Epoch 9/20\n",
      "125/125 [==============================] - 64s 516ms/step - loss: 0.4518 - accuracy: 0.7900 - auc: 0.8711 - val_loss: 0.4488 - val_accuracy: 0.7878 - val_auc: 0.8735\n",
      "Epoch 10/20\n",
      "125/125 [==============================] - 64s 509ms/step - loss: 0.4342 - accuracy: 0.8012 - auc: 0.8821 - val_loss: 0.4665 - val_accuracy: 0.7810 - val_auc: 0.8782\n",
      "Epoch 11/20\n",
      "125/125 [==============================] - 64s 513ms/step - loss: 0.4187 - accuracy: 0.8085 - auc: 0.8912 - val_loss: 0.4430 - val_accuracy: 0.7962 - val_auc: 0.8803\n",
      "Epoch 12/20\n",
      "125/125 [==============================] - 61s 489ms/step - loss: 0.4084 - accuracy: 0.8167 - auc: 0.8973 - val_loss: 0.4666 - val_accuracy: 0.7728 - val_auc: 0.8841\n",
      "Epoch 13/20\n",
      "125/125 [==============================] - 64s 515ms/step - loss: 0.3936 - accuracy: 0.8244 - auc: 0.9052 - val_loss: 0.4368 - val_accuracy: 0.8000 - val_auc: 0.8839\n",
      "Epoch 14/20\n",
      "125/125 [==============================] - 64s 512ms/step - loss: 0.3847 - accuracy: 0.8304 - auc: 0.9102 - val_loss: 0.4443 - val_accuracy: 0.7912 - val_auc: 0.8873\n",
      "Epoch 15/20\n",
      "125/125 [==============================] - 65s 518ms/step - loss: 0.3758 - accuracy: 0.8338 - auc: 0.9146 - val_loss: 0.4348 - val_accuracy: 0.8008 - val_auc: 0.8870\n",
      "Epoch 16/20\n",
      "125/125 [==============================] - 61s 489ms/step - loss: 0.3644 - accuracy: 0.8424 - auc: 0.9207 - val_loss: 0.4463 - val_accuracy: 0.7878 - val_auc: 0.8905\n",
      "Epoch 17/20\n",
      "125/125 [==============================] - 65s 518ms/step - loss: 0.3548 - accuracy: 0.8495 - auc: 0.9252 - val_loss: 0.4194 - val_accuracy: 0.8112 - val_auc: 0.8900\n",
      "Epoch 18/20\n",
      "125/125 [==============================] - 62s 493ms/step - loss: 0.3441 - accuracy: 0.8561 - auc: 0.9304 - val_loss: 0.4299 - val_accuracy: 0.8027 - val_auc: 0.8916\n",
      "Epoch 19/20\n",
      "125/125 [==============================] - 64s 516ms/step - loss: 0.3341 - accuracy: 0.8593 - auc: 0.9350 - val_loss: 0.4232 - val_accuracy: 0.8100 - val_auc: 0.8909\n",
      "Epoch 20/20\n",
      "125/125 [==============================] - 65s 517ms/step - loss: 0.3296 - accuracy: 0.8634 - auc: 0.9371 - val_loss: 0.4344 - val_accuracy: 0.8058 - val_auc: 0.8905\n",
      "\n",
      "\n",
      "======================== Fold 5 =============================\n",
      "Epoch 1/20\n",
      "125/125 [==============================] - 63s 499ms/step - loss: 0.7092 - accuracy: 0.5113 - auc: 0.5150 - val_loss: 0.6929 - val_accuracy: 0.5030 - val_auc: 0.5491\n",
      "Epoch 2/20\n",
      "125/125 [==============================] - 62s 497ms/step - loss: 0.6880 - accuracy: 0.5393 - auc: 0.5580 - val_loss: 0.6861 - val_accuracy: 0.5702 - val_auc: 0.6129\n",
      "Epoch 3/20\n",
      "125/125 [==============================] - 65s 519ms/step - loss: 0.6680 - accuracy: 0.5902 - auc: 0.6333 - val_loss: 0.6676 - val_accuracy: 0.5673 - val_auc: 0.7282\n",
      "Epoch 4/20\n",
      "125/125 [==============================] - 61s 491ms/step - loss: 0.6302 - accuracy: 0.6494 - auc: 0.7084 - val_loss: 0.6162 - val_accuracy: 0.6505 - val_auc: 0.7885\n",
      "Epoch 5/20\n",
      "125/125 [==============================] - 65s 517ms/step - loss: 0.5842 - accuracy: 0.6940 - auc: 0.7633 - val_loss: 0.5573 - val_accuracy: 0.7200 - val_auc: 0.8293\n",
      "Epoch 6/20\n",
      "125/125 [==============================] - 65s 519ms/step - loss: 0.5415 - accuracy: 0.7269 - auc: 0.8047 - val_loss: 0.5256 - val_accuracy: 0.7390 - val_auc: 0.8495\n",
      "Epoch 7/20\n",
      "125/125 [==============================] - 65s 518ms/step - loss: 0.5041 - accuracy: 0.7548 - auc: 0.8359 - val_loss: 0.5103 - val_accuracy: 0.7450 - val_auc: 0.8617\n",
      "Epoch 8/20\n",
      "125/125 [==============================] - 65s 518ms/step - loss: 0.4762 - accuracy: 0.7734 - auc: 0.8561 - val_loss: 0.5120 - val_accuracy: 0.7440 - val_auc: 0.8697\n",
      "Epoch 9/20\n",
      "125/125 [==============================] - 64s 517ms/step - loss: 0.4545 - accuracy: 0.7903 - auc: 0.8704 - val_loss: 0.4867 - val_accuracy: 0.7605 - val_auc: 0.8750\n",
      "Epoch 10/20\n",
      "125/125 [==============================] - 64s 514ms/step - loss: 0.4352 - accuracy: 0.8042 - auc: 0.8826 - val_loss: 0.4879 - val_accuracy: 0.7580 - val_auc: 0.8789\n",
      "Epoch 11/20\n",
      "125/125 [==============================] - 65s 517ms/step - loss: 0.4202 - accuracy: 0.8116 - auc: 0.8913 - val_loss: 0.4981 - val_accuracy: 0.7540 - val_auc: 0.8825\n",
      "Epoch 12/20\n",
      "125/125 [==============================] - 65s 517ms/step - loss: 0.4051 - accuracy: 0.8217 - auc: 0.9000 - val_loss: 0.4726 - val_accuracy: 0.7713 - val_auc: 0.8855\n",
      "Epoch 13/20\n",
      "125/125 [==============================] - 65s 518ms/step - loss: 0.3909 - accuracy: 0.8281 - auc: 0.9076 - val_loss: 0.4812 - val_accuracy: 0.7667 - val_auc: 0.8875\n",
      "Epoch 14/20\n",
      "125/125 [==============================] - 62s 493ms/step - loss: 0.3818 - accuracy: 0.8374 - auc: 0.9124 - val_loss: 0.4695 - val_accuracy: 0.7755 - val_auc: 0.8898\n",
      "Epoch 15/20\n",
      "125/125 [==============================] - 65s 518ms/step - loss: 0.3710 - accuracy: 0.8404 - auc: 0.9176 - val_loss: 0.5222 - val_accuracy: 0.7385 - val_auc: 0.8910\n",
      "Epoch 16/20\n",
      "125/125 [==============================] - 65s 520ms/step - loss: 0.3615 - accuracy: 0.8432 - auc: 0.9223 - val_loss: 0.5226 - val_accuracy: 0.7375 - val_auc: 0.8921\n",
      "Epoch 17/20\n",
      "125/125 [==============================] - 64s 514ms/step - loss: 0.3505 - accuracy: 0.8510 - auc: 0.9277 - val_loss: 0.5626 - val_accuracy: 0.7220 - val_auc: 0.8932\n",
      "Epoch 18/20\n",
      "125/125 [==============================] - 64s 512ms/step - loss: 0.3407 - accuracy: 0.8587 - auc: 0.9322 - val_loss: 0.4670 - val_accuracy: 0.7780 - val_auc: 0.8948\n",
      "Epoch 19/20\n",
      "125/125 [==============================] - 64s 516ms/step - loss: 0.3316 - accuracy: 0.8635 - auc: 0.9361 - val_loss: 0.5895 - val_accuracy: 0.7097 - val_auc: 0.8957\n",
      "Epoch 20/20\n",
      "125/125 [==============================] - 64s 515ms/step - loss: 0.3202 - accuracy: 0.8691 - auc: 0.9415 - val_loss: 0.4864 - val_accuracy: 0.7642 - val_auc: 0.8962\n",
      "\n",
      "\n"
     ]
    }
   ],
   "source": [
    "# cross validation\n",
    "\n",
    "kf=KFold(n_splits=5)\n",
    "i=1\n",
    "cv_perf={}\n",
    "for tr_idx, ts_idx in kf.split(xtrain):\n",
    "    print(f\"======================== Fold {i} =============================\")\n",
    "    model=get_model()\n",
    "    train_ds = tf.data.Dataset.from_generator(datagen(xtrain.iloc[tr_idx], ytrain.iloc[tr_idx]),\n",
    "                                              output_signature=(tf.TensorSpec(shape=(maxl,300),dtype=tf.float32),\n",
    "                                                                tf.TensorSpec(shape=(), dtype=tf.int32))).batch(batch_size)\n",
    "\n",
    "    val_ds = tf.data.Dataset.from_generator(datagen(xtrain.iloc[ts_idx], ytrain.iloc[ts_idx]),\n",
    "                                            output_signature=(tf.TensorSpec(shape=(maxl,300),dtype=tf.float32),\n",
    "                                                              tf.TensorSpec(shape=(), dtype=tf.int32))).batch(batch_size)\n",
    "    \n",
    "    cvhistory = model.fit(train_ds,validation_data=val_ds, epochs=epochs, callbacks=[reduce_lr])\n",
    "    cv_perf.update({f\"fold_{i}\":cvhistory.history})\n",
    "    i+=1\n",
    "    del model\n",
    "    tf.keras.backend.clear_session()\n",
    "    gc.collect()\n",
    "    print(\"\\n\")"
   ]
  },
  {
   "cell_type": "code",
   "execution_count": 11,
   "id": "e2a28c88",
   "metadata": {
    "execution": {
     "iopub.execute_input": "2022-09-12T13:32:32.444283Z",
     "iopub.status.busy": "2022-09-12T13:32:32.443839Z",
     "iopub.status.idle": "2022-09-12T13:32:32.658909Z",
     "shell.execute_reply": "2022-09-12T13:32:32.657838Z"
    },
    "papermill": {
     "duration": 1.074222,
     "end_time": "2022-09-12T13:32:32.661048",
     "exception": false,
     "start_time": "2022-09-12T13:32:31.586826",
     "status": "completed"
    },
    "tags": []
   },
   "outputs": [
    {
     "data": {
      "image/png": "[encoded data removed]",
      "text/plain": [
       "<Figure size 432x288 with 1 Axes>"
      ]
     },
     "metadata": {
      "needs_background": "light"
     },
     "output_type": "display_data"
    }
   ],
   "source": [
    "plt.plot(history.history[\"loss\"], label=\"train loss\")\n",
    "plt.plot(history.history[\"val_loss\"], label=\"val loss\")\n",
    "plt.xlabel('Epoch')\n",
    "plt.ylabel('Loss')\n",
    "plt.legend()\n",
    "plt.show()"
   ]
  },
  {
   "cell_type": "code",
   "execution_count": 12,
   "id": "55f9e751",
   "metadata": {
    "execution": {
     "iopub.execute_input": "2022-09-12T13:32:34.920689Z",
     "iopub.status.busy": "2022-09-12T13:32:34.920136Z",
     "iopub.status.idle": "2022-09-12T13:32:35.129750Z",
     "shell.execute_reply": "2022-09-12T13:32:35.128846Z"
    },
    "papermill": {
     "duration": 1.414216,
     "end_time": "2022-09-12T13:32:35.131825",
     "exception": false,
     "start_time": "2022-09-12T13:32:33.717609",
     "status": "completed"
    },
    "tags": []
   },
   "outputs": [
    {
     "data": {
      "image/png": "[encoded data removed]",
      "text/plain": [
       "<Figure size 432x288 with 1 Axes>"
      ]
     },
     "metadata": {
      "needs_background": "light"
     },
     "output_type": "display_data"
    }
   ],
   "source": [
    "plt.plot(history.history[\"auc\"], label=\"train accuracy\")\n",
    "plt.plot(history.history[\"val_auc\"], label=\"val accuracy\")\n",
    "plt.xlabel('Epoch')\n",
    "plt.ylabel('Accuracy')\n",
    "plt.legend()\n",
    "plt.show()"
   ]
  },
  {
   "cell_type": "code",
   "execution_count": 13,
   "id": "89b768c4",
   "metadata": {
    "execution": {
     "iopub.execute_input": "2022-09-12T13:32:36.936798Z",
     "iopub.status.busy": "2022-09-12T13:32:36.936255Z",
     "iopub.status.idle": "2022-09-12T13:32:36.941938Z",
     "shell.execute_reply": "2022-09-12T13:32:36.940939Z"
    },
    "papermill": {
     "duration": 0.914184,
     "end_time": "2022-09-12T13:32:36.943947",
     "exception": false,
     "start_time": "2022-09-12T13:32:36.029763",
     "status": "completed"
    },
    "tags": []
   },
   "outputs": [],
   "source": [
    "# submission\n",
    "\n",
    "# sub_ds = tf.data.Dataset.from_generator(datagen(test.review), output_signature=(tf.TensorSpec(shape=(maxl,300),dtype=tf.float32))).batch(batch_size)\n",
    "# pred=model.predict(sub_ds)\n",
    "# pred_class=np.where(pred>0.5,1,0).reshape(-1)\n",
    "# pd.DataFrame({\"id\":test.id.values, \"sentiment\":pred_class}).to_csv('submission.csv', header=True, index=False)"
   ]
  },
  {
   "cell_type": "code",
   "execution_count": null,
   "id": "85d17966",
   "metadata": {
    "papermill": {
     "duration": 0.831176,
     "end_time": "2022-09-12T13:32:38.602529",
     "exception": false,
     "start_time": "2022-09-12T13:32:37.771353",
     "status": "completed"
    },
    "tags": []
   },
   "outputs": [],
   "source": []
  }
 ],
 "metadata": {
  "kernelspec": {
   "display_name": "Python 3",
   "language": "python",
   "name": "python3"
  },
  "language_info": {
   "codemirror_mode": {
    "name": "ipython",
    "version": 3
   },
   "file_extension": ".py",
   "mimetype": "text/x-python",
   "name": "python",
   "nbconvert_exporter": "python",
   "pygments_lexer": "ipython3",
   "version": "3.7.12"
  },
  "papermill": {
   "default_parameters": {},
   "duration": 8310.536138,
   "end_time": "2022-09-12T13:32:43.247123",
   "environment_variables": {},
   "exception": null,
   "input_path": "__notebook__.ipynb",
   "output_path": "__notebook__.ipynb",
   "parameters": {},
   "start_time": "2022-09-12T11:14:12.710985",
   "version": "2.3.4"
  }
 },
 "nbformat": 4,
 "nbformat_minor": 5
}
