{
 "cells": [
  {
   "cell_type": "code",
   "execution_count": 1,
   "id": "dda8f690",
   "metadata": {
    "execution": {
     "iopub.execute_input": "2022-09-11T22:35:50.440089Z",
     "iopub.status.busy": "2022-09-11T22:35:50.439633Z",
     "iopub.status.idle": "2022-09-11T22:36:03.248548Z",
     "shell.execute_reply": "2022-09-11T22:36:03.247043Z"
    },
    "papermill": {
     "duration": 12.820166,
     "end_time": "2022-09-11T22:36:03.251562",
     "exception": false,
     "start_time": "2022-09-11T22:35:50.431396",
     "status": "completed"
    },
    "tags": []
   },
   "outputs": [],
   "source": [
    "import pandas as pd\n",
    "import numpy as np\n",
    "import spacy\n",
    "import string\n",
    "from bs4 import BeautifulSoup             \n",
    "import re\n",
    "\n",
    "from sklearn.metrics import confusion_matrix as cm\n",
    "from sklearn.linear_model import LogisticRegression, SGDClassifier\n",
    "from sklearn.svm import SVC\n",
    "from sklearn.feature_extraction.text import CountVectorizer\n",
    "from sklearn.feature_extraction.text import TfidfVectorizer\n",
    "from sklearn.ensemble import RandomForestClassifier as rforest"
   ]
  },
  {
   "cell_type": "code",
   "execution_count": 2,
   "id": "011b68af",
   "metadata": {
    "execution": {
     "iopub.execute_input": "2022-09-11T22:36:03.263772Z",
     "iopub.status.busy": "2022-09-11T22:36:03.263137Z",
     "iopub.status.idle": "2022-09-11T22:36:03.267931Z",
     "shell.execute_reply": "2022-09-11T22:36:03.266681Z"
    },
    "papermill": {
     "duration": 0.01343,
     "end_time": "2022-09-11T22:36:03.270256",
     "exception": false,
     "start_time": "2022-09-11T22:36:03.256826",
     "status": "completed"
    },
    "tags": []
   },
   "outputs": [],
   "source": [
    "# spacy.require_gpu()\n",
    "# gpu = spacy.prefer_gpu()\n",
    "# print('GPU:', gpu)"
   ]
  },
  {
   "cell_type": "code",
   "execution_count": 3,
   "id": "4e0e7f20",
   "metadata": {
    "execution": {
     "iopub.execute_input": "2022-09-11T22:36:03.282445Z",
     "iopub.status.busy": "2022-09-11T22:36:03.281426Z",
     "iopub.status.idle": "2022-09-11T22:36:06.601728Z",
     "shell.execute_reply": "2022-09-11T22:36:06.600422Z"
    },
    "papermill": {
     "duration": 3.329259,
     "end_time": "2022-09-11T22:36:06.604540",
     "exception": false,
     "start_time": "2022-09-11T22:36:03.275281",
     "status": "completed"
    },
    "tags": []
   },
   "outputs": [],
   "source": [
    "# data avialable here : https://www.kaggle.com/competitions/word2vec-nlp-tutorial/data\n",
    "labtrain = pd.read_csv('../input/word2vec-nlp-tutorial/labeledTrainData.tsv.zip', compression='zip', sep='\\t', header=0)\n",
    "unlabtrain = pd.read_csv('../input/word2vec-nlp-tutorial/unlabeledTrainData.tsv.zip', compression='zip', sep='\\t',quoting=3)\n",
    "test = pd.read_csv('../input/word2vec-nlp-tutorial/testData.tsv.zip', compression='zip', sep='\\t')"
   ]
  },
  {
   "cell_type": "code",
   "execution_count": 4,
   "id": "209880fe",
   "metadata": {
    "execution": {
     "iopub.execute_input": "2022-09-11T22:36:06.616462Z",
     "iopub.status.busy": "2022-09-11T22:36:06.616002Z",
     "iopub.status.idle": "2022-09-11T22:36:10.327135Z",
     "shell.execute_reply": "2022-09-11T22:36:10.325906Z"
    },
    "papermill": {
     "duration": 3.7203,
     "end_time": "2022-09-11T22:36:10.329968",
     "exception": false,
     "start_time": "2022-09-11T22:36:06.609668",
     "status": "completed"
    },
    "tags": []
   },
   "outputs": [],
   "source": [
    "nlp = spacy.load(\"en_core_web_lg\", exclude=[\"parser\", \"senter\", \"ner\"])\n",
    "nlp.Defaults.stop_words -= {\"never\", \"not\",\"again\",\"more\"} #exclude this words"
   ]
  },
  {
   "cell_type": "markdown",
   "id": "05cdce9b",
   "metadata": {
    "papermill": {
     "duration": 0.004639,
     "end_time": "2022-09-11T22:36:10.339691",
     "exception": false,
     "start_time": "2022-09-11T22:36:10.335052",
     "status": "completed"
    },
    "tags": []
   },
   "source": [
    "<br>\n",
    "<br>\n",
    "\n",
    "# **Bag of words** \n",
    "<br>\n",
    "\n",
    "## 1. data Preparation\n",
    "\n",
    "* tokenization\n",
    "* lemmatization\n",
    "* remove punctuation, numbers and undefined words\n"
   ]
  },
  {
   "cell_type": "code",
   "execution_count": 5,
   "id": "fc87bc1e",
   "metadata": {
    "execution": {
     "iopub.execute_input": "2022-09-11T22:36:10.351196Z",
     "iopub.status.busy": "2022-09-11T22:36:10.350785Z",
     "iopub.status.idle": "2022-09-11T22:50:29.461621Z",
     "shell.execute_reply": "2022-09-11T22:50:29.460042Z"
    },
    "papermill": {
     "duration": 859.131434,
     "end_time": "2022-09-11T22:50:29.475989",
     "exception": false,
     "start_time": "2022-09-11T22:36:10.344555",
     "status": "completed"
    },
    "tags": []
   },
   "outputs": [
    {
     "name": "stderr",
     "output_type": "stream",
     "text": [
      "/opt/conda/lib/python3.7/site-packages/bs4/__init__.py:439: MarkupResemblesLocatorWarning: The input looks more like a filename than markup. You may want to open this file and pass the filehandle into Beautiful Soup.\n",
      "  MarkupResemblesLocatorWarning\n",
      "/opt/conda/lib/python3.7/site-packages/ipykernel_launcher.py:13: SettingWithCopyWarning: \n",
      "A value is trying to be set on a copy of a slice from a DataFrame\n",
      "\n",
      "See the caveats in the documentation: https://pandas.pydata.org/pandas-docs/stable/user_guide/indexing.html#returning-a-view-versus-a-copy\n",
      "  del sys.path[0]\n"
     ]
    },
    {
     "name": "stdout",
     "output_type": "stream",
     "text": [
      "CPU times: user 14min 9s, sys: 9.16 s, total: 14min 19s\n",
      "Wall time: 14min 19s\n"
     ]
    }
   ],
   "source": [
    "%%time\n",
    "def clean_text(x): # clean from html tags and punctuation\n",
    "    x= BeautifulSoup(x).get_text()\n",
    "    for i in x:\n",
    "        if (i in string.punctuation.replace(\"'\",\"\")):\n",
    "            x=x.replace(i,\"\")\n",
    "    return x\n",
    "labtrain.review = labtrain.review.apply(clean_text)\n",
    "test.review = test.review.apply(clean_text)\n",
    "\n",
    "def prep_text(x): # lemmatize text and return only relevant words\n",
    "    for i, doc in enumerate(nlp.pipe(x)):\n",
    "        text=[token.lemma_ for token in doc if  not token.is_punct and not token.like_num and token.is_alpha and token.has_vector]\n",
    "        x[i]= \" \".join(text)\n",
    "    return x\n",
    "\n",
    "\n",
    "prep_text(labtrain.review)\n",
    "prep_text(test.review)\n",
    "xtrain = labtrain.review\n",
    "xtest = test.review\n",
    "y = labtrain.sentiment"
   ]
  },
  {
   "cell_type": "code",
   "execution_count": 6,
   "id": "5a4e0b9c",
   "metadata": {
    "execution": {
     "iopub.execute_input": "2022-09-11T22:50:29.488858Z",
     "iopub.status.busy": "2022-09-11T22:50:29.488389Z",
     "iopub.status.idle": "2022-09-11T22:50:29.497890Z",
     "shell.execute_reply": "2022-09-11T22:50:29.496850Z"
    },
    "papermill": {
     "duration": 0.018779,
     "end_time": "2022-09-11T22:50:29.500151",
     "exception": false,
     "start_time": "2022-09-11T22:50:29.481372",
     "status": "completed"
    },
    "tags": []
   },
   "outputs": [
    {
     "data": {
      "text/plain": [
       "'Guy be a loser can get girl need to build up be pick on by strong more successful guy etc see it see it move on I have to say that Rob need to move past the Adam Sandler part of his life and get out of the Adam Sandler plot there be funny part in the whole movie I could even finish the last minute I be get bored the Animal be an alright film I do usually enjoy Adam Sandler film that have the same plot but this be try too hard to impress the joke be very old so trust I this be not a film that most people could really get into but some do so I be'"
      ]
     },
     "execution_count": 6,
     "metadata": {},
     "output_type": "execute_result"
    }
   ],
   "source": [
    "labtrain.review[24997]"
   ]
  },
  {
   "cell_type": "code",
   "execution_count": 7,
   "id": "d4a8b64b",
   "metadata": {
    "execution": {
     "iopub.execute_input": "2022-09-11T22:50:29.512530Z",
     "iopub.status.busy": "2022-09-11T22:50:29.512135Z",
     "iopub.status.idle": "2022-09-11T22:50:29.515853Z",
     "shell.execute_reply": "2022-09-11T22:50:29.515115Z"
    },
    "papermill": {
     "duration": 0.012253,
     "end_time": "2022-09-11T22:50:29.517823",
     "exception": false,
     "start_time": "2022-09-11T22:50:29.505570",
     "status": "completed"
    },
    "tags": []
   },
   "outputs": [],
   "source": [
    "# save this data to be used in next notebooks\n",
    "\n",
    "# labtrain.to_pickle(\"train_review\")\n",
    "# test.to_pickle(\"test_review\")"
   ]
  },
  {
   "cell_type": "markdown",
   "id": "0eb9e057",
   "metadata": {
    "papermill": {
     "duration": 0.005025,
     "end_time": "2022-09-11T22:50:29.528238",
     "exception": false,
     "start_time": "2022-09-11T22:50:29.523213",
     "status": "completed"
    },
    "tags": []
   },
   "source": [
    "## 2. Bag of words\n",
    "​\n",
    "* TFIDF matrice\n",
    "* count matrice\n",
    "* classification model of your choice\n",
    "​"
   ]
  },
  {
   "cell_type": "code",
   "execution_count": 8,
   "id": "4b5c0ef8",
   "metadata": {
    "execution": {
     "iopub.execute_input": "2022-09-11T22:50:29.541213Z",
     "iopub.status.busy": "2022-09-11T22:50:29.540465Z",
     "iopub.status.idle": "2022-09-11T22:50:29.548189Z",
     "shell.execute_reply": "2022-09-11T22:50:29.547288Z"
    },
    "papermill": {
     "duration": 0.016528,
     "end_time": "2022-09-11T22:50:29.550299",
     "exception": false,
     "start_time": "2022-09-11T22:50:29.533771",
     "status": "completed"
    },
    "tags": []
   },
   "outputs": [],
   "source": [
    "def bow_matrix(train,vectorizer=None,**kwargs):\n",
    "    matrices=[\"cv\",\"tfidf\"]\n",
    "    if vectorizer not in matrices:\n",
    "        raise ValueError(\"vectorizer takes cv or tfidf values\")\n",
    "    if vectorizer ==\"tfidf\":\n",
    "        vec=TfidfVectorizer(**kwargs)\n",
    "    else:\n",
    "        vec=CountVectorizer(**kwargs)\n",
    "    vec=vec.fit(train)\n",
    "    return vec.transform(train), vec\n",
    "    \n",
    "\n",
    "def bow_predict(train,test,v):\n",
    "# try other models\n",
    "#     model=SVC(C=1, max_iter=400 )\n",
    "#     model=LogisticRegression(max_iter=400)\n",
    "#     model=rforest()\n",
    "\n",
    "    model=SGDClassifier(loss='modified_huber')\n",
    "    model.fit(train,y)\n",
    "    pred=model.predict(v.transform(test))\n",
    "    return pred, model"
   ]
  },
  {
   "cell_type": "code",
   "execution_count": 9,
   "id": "4c6c9d36",
   "metadata": {
    "execution": {
     "iopub.execute_input": "2022-09-11T22:50:29.563432Z",
     "iopub.status.busy": "2022-09-11T22:50:29.562679Z",
     "iopub.status.idle": "2022-09-11T22:51:38.466288Z",
     "shell.execute_reply": "2022-09-11T22:51:38.465122Z"
    },
    "papermill": {
     "duration": 68.913456,
     "end_time": "2022-09-11T22:51:38.469246",
     "exception": false,
     "start_time": "2022-09-11T22:50:29.555790",
     "status": "completed"
    },
    "tags": []
   },
   "outputs": [],
   "source": [
    "bowx, vectorizer=bow_matrix(xtrain,vectorizer=\"cv\", stop_words=\"english\",\n",
    "                            token_pattern='\\w{3,}', ngram_range=(1, 4),\n",
    "                            max_df=0.9, min_df=2, max_features = 200000)\n",
    "\n",
    "pred, model=bow_predict(bowx,xtest,vectorizer)"
   ]
  },
  {
   "cell_type": "code",
   "execution_count": 10,
   "id": "cf23a9c2",
   "metadata": {
    "execution": {
     "iopub.execute_input": "2022-09-11T22:51:38.482297Z",
     "iopub.status.busy": "2022-09-11T22:51:38.481852Z",
     "iopub.status.idle": "2022-09-11T22:51:38.511317Z",
     "shell.execute_reply": "2022-09-11T22:51:38.510240Z"
    },
    "papermill": {
     "duration": 0.0389,
     "end_time": "2022-09-11T22:51:38.513801",
     "exception": false,
     "start_time": "2022-09-11T22:51:38.474901",
     "status": "completed"
    },
    "tags": []
   },
   "outputs": [
    {
     "data": {
      "text/plain": [
       "array([[12500,     0],\n",
       "       [    0, 12500]])"
      ]
     },
     "execution_count": 10,
     "metadata": {},
     "output_type": "execute_result"
    }
   ],
   "source": [
    "cm(y, model.predict(bowx))"
   ]
  },
  {
   "cell_type": "code",
   "execution_count": 11,
   "id": "a41545aa",
   "metadata": {
    "execution": {
     "iopub.execute_input": "2022-09-11T22:51:38.526705Z",
     "iopub.status.busy": "2022-09-11T22:51:38.526079Z",
     "iopub.status.idle": "2022-09-11T22:51:38.530944Z",
     "shell.execute_reply": "2022-09-11T22:51:38.529648Z"
    },
    "papermill": {
     "duration": 0.014236,
     "end_time": "2022-09-11T22:51:38.533476",
     "exception": false,
     "start_time": "2022-09-11T22:51:38.519240",
     "status": "completed"
    },
    "tags": []
   },
   "outputs": [],
   "source": [
    "# submit prediction\n",
    "# pd.DataFrame({\"id\":test.id, \"sentiment\":pred}).to_csv('submission.csv',index=False, header=True)"
   ]
  },
  {
   "cell_type": "markdown",
   "id": "a9d28740",
   "metadata": {
    "papermill": {
     "duration": 0.005148,
     "end_time": "2022-09-11T22:51:38.544100",
     "exception": false,
     "start_time": "2022-09-11T22:51:38.538952",
     "status": "completed"
    },
    "tags": []
   },
   "source": [
    "**LB score:**   \n",
    "\n",
    "AUC = 0.85"
   ]
  },
  {
   "cell_type": "markdown",
   "id": "49e375c2",
   "metadata": {
    "papermill": {
     "duration": 0.005385,
     "end_time": "2022-09-11T22:51:38.554901",
     "exception": false,
     "start_time": "2022-09-11T22:51:38.549516",
     "status": "completed"
    },
    "tags": []
   },
   "source": [
    "<br>\n",
    "<br>\n",
    "\n",
    "# **Review Vectorization**\n",
    "<br>\n",
    "\n",
    "Convert each review to a vector of size 300, basically, it's the average of word embeddings vectors available on scapy"
   ]
  },
  {
   "cell_type": "code",
   "execution_count": 12,
   "id": "be65f870",
   "metadata": {
    "execution": {
     "iopub.execute_input": "2022-09-11T22:51:38.567662Z",
     "iopub.status.busy": "2022-09-11T22:51:38.566948Z",
     "iopub.status.idle": "2022-09-11T23:03:28.958492Z",
     "shell.execute_reply": "2022-09-11T23:03:28.957128Z"
    },
    "papermill": {
     "duration": 710.408439,
     "end_time": "2022-09-11T23:03:28.968734",
     "exception": false,
     "start_time": "2022-09-11T22:51:38.560295",
     "status": "completed"
    },
    "tags": []
   },
   "outputs": [
    {
     "name": "stdout",
     "output_type": "stream",
     "text": [
      "CPU times: user 11min 44s, sys: 5.66 s, total: 11min 50s\n",
      "Wall time: 11min 50s\n"
     ]
    }
   ],
   "source": [
    "%%time\n",
    "def get_vector(x):\n",
    "    for doc in nlp.pipe(x):\n",
    "        yield doc.vector\n",
    "        \n",
    "wordvec = pd.DataFrame(np.stack(list(get_vector(xtrain))))\n",
    "test_wordvec=pd.DataFrame(np.stack(list(get_vector(xtest))))"
   ]
  },
  {
   "cell_type": "code",
   "execution_count": 13,
   "id": "244df0be",
   "metadata": {
    "execution": {
     "iopub.execute_input": "2022-09-11T23:03:28.981520Z",
     "iopub.status.busy": "2022-09-11T23:03:28.981081Z",
     "iopub.status.idle": "2022-09-11T23:03:32.182909Z",
     "shell.execute_reply": "2022-09-11T23:03:32.181322Z"
    },
    "papermill": {
     "duration": 3.213549,
     "end_time": "2022-09-11T23:03:32.187689",
     "exception": false,
     "start_time": "2022-09-11T23:03:28.974140",
     "status": "completed"
    },
    "tags": []
   },
   "outputs": [
    {
     "name": "stdout",
     "output_type": "stream",
     "text": [
      "CPU times: user 8.07 s, sys: 2.77 s, total: 10.8 s\n",
      "Wall time: 3.19 s\n"
     ]
    }
   ],
   "source": [
    "%%time\n",
    "model=LogisticRegression(max_iter=400)\n",
    "model.fit(wordvec,y)\n",
    "pred=model.predict(test_wordvec)"
   ]
  },
  {
   "cell_type": "code",
   "execution_count": 14,
   "id": "4ac85917",
   "metadata": {
    "execution": {
     "iopub.execute_input": "2022-09-11T23:03:32.219149Z",
     "iopub.status.busy": "2022-09-11T23:03:32.218181Z",
     "iopub.status.idle": "2022-09-11T23:03:32.225113Z",
     "shell.execute_reply": "2022-09-11T23:03:32.223292Z"
    },
    "papermill": {
     "duration": 0.029281,
     "end_time": "2022-09-11T23:03:32.231735",
     "exception": false,
     "start_time": "2022-09-11T23:03:32.202454",
     "status": "completed"
    },
    "tags": []
   },
   "outputs": [],
   "source": [
    "# submission\n",
    "# pd.DataFrame({\"id\":test.id, \"sentiment\":pred}).to_csv('submission.csv',index=False, header=True)"
   ]
  },
  {
   "cell_type": "markdown",
   "id": "5f91e83f",
   "metadata": {
    "papermill": {
     "duration": 0.013408,
     "end_time": "2022-09-11T23:03:32.258997",
     "exception": false,
     "start_time": "2022-09-11T23:03:32.245589",
     "status": "completed"
    },
    "tags": []
   },
   "source": [
    "**LB score:**   \n",
    "\n",
    "AUC = 0.84"
   ]
  },
  {
   "cell_type": "code",
   "execution_count": null,
   "id": "32abcc1b",
   "metadata": {
    "papermill": {
     "duration": 0.013155,
     "end_time": "2022-09-11T23:03:32.285988",
     "exception": false,
     "start_time": "2022-09-11T23:03:32.272833",
     "status": "completed"
    },
    "tags": []
   },
   "outputs": [],
   "source": []
  }
 ],
 "metadata": {
  "kernelspec": {
   "display_name": "Python 3",
   "language": "python",
   "name": "python3"
  },
  "language_info": {
   "codemirror_mode": {
    "name": "ipython",
    "version": 3
   },
   "file_extension": ".py",
   "mimetype": "text/x-python",
   "name": "python",
   "nbconvert_exporter": "python",
   "pygments_lexer": "ipython3",
   "version": "3.7.12"
  },
  "papermill": {
   "default_parameters": {},
   "duration": 1673.597915,
   "end_time": "2022-09-11T23:03:34.927262",
   "environment_variables": {},
   "exception": null,
   "input_path": "__notebook__.ipynb",
   "output_path": "__notebook__.ipynb",
   "parameters": {},
   "start_time": "2022-09-11T22:35:41.329347",
   "version": "2.3.4"
  }
 },
 "nbformat": 4,
 "nbformat_minor": 5
}
