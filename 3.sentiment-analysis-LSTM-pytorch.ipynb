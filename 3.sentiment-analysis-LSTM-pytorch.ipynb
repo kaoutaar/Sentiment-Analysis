{
 "cells": [
  {
   "cell_type": "code",
   "execution_count": 1,
   "id": "60843c0d",
   "metadata": {
    "_cell_guid": "b1076dfc-b9ad-4769-8c92-a6c4dae69d19",
    "_uuid": "8f2839f25d086af736a60e9eeb907d3b93b6e0e5",
    "execution": {
     "iopub.execute_input": "2022-09-12T22:54:21.441757Z",
     "iopub.status.busy": "2022-09-12T22:54:21.441259Z",
     "iopub.status.idle": "2022-09-12T22:54:28.435255Z",
     "shell.execute_reply": "2022-09-12T22:54:28.434229Z"
    },
    "papermill": {
     "duration": 7.003483,
     "end_time": "2022-09-12T22:54:28.437585",
     "exception": false,
     "start_time": "2022-09-12T22:54:21.434102",
     "status": "completed"
    },
    "tags": []
   },
   "outputs": [
    {
     "data": {
      "text/plain": [
       "<torch._C.Generator at 0x7f7eb92d7a90>"
      ]
     },
     "execution_count": 1,
     "metadata": {},
     "output_type": "execute_result"
    }
   ],
   "source": [
    "import pandas as pd\n",
    "import numpy as np\n",
    "import tensorflow as tf\n",
    "import gc\n",
    "import matplotlib\n",
    "from sklearn.model_selection import train_test_split\n",
    "from tqdm import tqdm\n",
    "\n",
    "import torch\n",
    "from torch import nn\n",
    "from torch.utils.data import Dataset, DataLoader\n",
    "from torch.utils.data.dataset import random_split\n",
    "import torchtext\n",
    "from torchtext.data.utils import get_tokenizer\n",
    "from collections import Counter\n",
    "\n",
    "import matplotlib.pyplot as plt\n",
    "device = \"cuda\" if torch.cuda.is_available() else \"cpu\"\n",
    "device = torch.device(device)\n",
    "torch.manual_seed(42)"
   ]
  },
  {
   "cell_type": "code",
   "execution_count": 2,
   "id": "615c5be2",
   "metadata": {
    "execution": {
     "iopub.execute_input": "2022-09-12T22:54:28.448879Z",
     "iopub.status.busy": "2022-09-12T22:54:28.447808Z",
     "iopub.status.idle": "2022-09-12T22:54:29.013689Z",
     "shell.execute_reply": "2022-09-12T22:54:29.012642Z"
    },
    "papermill": {
     "duration": 0.573725,
     "end_time": "2022-09-12T22:54:29.016136",
     "exception": false,
     "start_time": "2022-09-12T22:54:28.442411",
     "status": "completed"
    },
    "tags": []
   },
   "outputs": [],
   "source": [
    "train_review=pd.read_pickle('../input/valid-vectors-review/train_review')\n",
    "test_review=pd.read_pickle('../input/valid-vectors-review/test_review')"
   ]
  },
  {
   "cell_type": "code",
   "execution_count": 3,
   "id": "8e816ef5",
   "metadata": {
    "execution": {
     "iopub.execute_input": "2022-09-12T22:54:29.027594Z",
     "iopub.status.busy": "2022-09-12T22:54:29.026529Z",
     "iopub.status.idle": "2022-09-12T22:54:34.070621Z",
     "shell.execute_reply": "2022-09-12T22:54:34.069650Z"
    },
    "papermill": {
     "duration": 5.052704,
     "end_time": "2022-09-12T22:54:34.073612",
     "exception": false,
     "start_time": "2022-09-12T22:54:29.020908",
     "status": "completed"
    },
    "tags": []
   },
   "outputs": [],
   "source": [
    "#tokenize reviews and set the max of tokens to 150\n",
    "def resize(x):\n",
    "    max_len=150\n",
    "    if len(x)>=max_len:\n",
    "        return x[:max_len]\n",
    "    return np.pad(x, (0,max_len-len(x)),constant_values=\"<pad>\").tolist()\n",
    "\n",
    "tokenizer=get_tokenizer('basic_english')\n",
    "train_review[\"tokens\"] = train_review.review.map(tokenizer).apply(resize)\n",
    "test_review[\"tokens\"] = test_review.review.map(tokenizer).apply(resize)"
   ]
  },
  {
   "cell_type": "code",
   "execution_count": 4,
   "id": "f39ef5bf",
   "metadata": {
    "execution": {
     "iopub.execute_input": "2022-09-12T22:54:34.090656Z",
     "iopub.status.busy": "2022-09-12T22:54:34.090309Z",
     "iopub.status.idle": "2022-09-12T23:06:26.059958Z",
     "shell.execute_reply": "2022-09-12T23:06:26.057918Z"
    },
    "papermill": {
     "duration": 712.047641,
     "end_time": "2022-09-12T23:06:26.129975",
     "exception": false,
     "start_time": "2022-09-12T22:54:34.082334",
     "status": "completed"
    },
    "tags": []
   },
   "outputs": [
    {
     "name": "stderr",
     "output_type": "stream",
     "text": [
      ".vector_cache/glove.840B.300d.zip: 2.18GB [06:50, 5.30MB/s]                            \n",
      "100%|█████████▉| 2196016/2196017 [03:51<00:00, 9493.14it/s] \n"
     ]
    }
   ],
   "source": [
    "glove_vectors = torchtext.vocab.GloVe()\n",
    "# fast_vectors = torchtext.vocab.FastText()"
   ]
  },
  {
   "cell_type": "code",
   "execution_count": 5,
   "id": "dd7f1b84",
   "metadata": {
    "execution": {
     "iopub.execute_input": "2022-09-12T23:06:30.301920Z",
     "iopub.status.busy": "2022-09-12T23:06:30.301066Z",
     "iopub.status.idle": "2022-09-12T23:06:30.730054Z",
     "shell.execute_reply": "2022-09-12T23:06:30.729148Z"
    },
    "papermill": {
     "duration": 0.889486,
     "end_time": "2022-09-12T23:06:30.732086",
     "exception": false,
     "start_time": "2022-09-12T23:06:29.842600",
     "status": "completed"
    },
    "tags": []
   },
   "outputs": [
    {
     "data": {
      "text/plain": [
       "42"
      ]
     },
     "execution_count": 5,
     "metadata": {},
     "output_type": "execute_result"
    }
   ],
   "source": [
    "gc.collect()"
   ]
  },
  {
   "cell_type": "code",
   "execution_count": 6,
   "id": "3f08fb61",
   "metadata": {
    "execution": {
     "iopub.execute_input": "2022-09-12T23:06:31.346568Z",
     "iopub.status.busy": "2022-09-12T23:06:31.345488Z",
     "iopub.status.idle": "2022-09-12T23:06:32.792366Z",
     "shell.execute_reply": "2022-09-12T23:06:32.791345Z"
    },
    "papermill": {
     "duration": 1.756362,
     "end_time": "2022-09-12T23:06:32.794876",
     "exception": false,
     "start_time": "2022-09-12T23:06:31.038514",
     "status": "completed"
    },
    "tags": []
   },
   "outputs": [],
   "source": [
    "special_tokens = ['<unk>'] #add this special word to the list of vocab and give it an index, usually 0\n",
    "min_freq = 1\n",
    "vocab=torchtext.vocab.build_vocab_from_iterator(train_review[\"tokens\"], min_freq=min_freq, specials=special_tokens)\n",
    "#set it as default, so every time i run vocab[word] \n",
    "# and this word doesn't exist in the vocab list, it will return the indice of the word \"unk\"\n",
    "vocab.set_default_index(vocab['<unk>']) \n",
    "train_review[\"ids\"] = train_review.tokens.map(vocab)\n",
    "test_review[\"ids\"] = test_review.tokens.map(vocab)"
   ]
  },
  {
   "cell_type": "markdown",
   "id": "4f254d0f",
   "metadata": {
    "papermill": {
     "duration": 0.35098,
     "end_time": "2022-09-12T23:06:33.451942",
     "exception": false,
     "start_time": "2022-09-12T23:06:33.100962",
     "status": "completed"
    },
    "tags": []
   },
   "source": [
    "<br>\n",
    "<br>\n",
    "<br>\n",
    "\n",
    "# Trainable/Static embeddings"
   ]
  },
  {
   "cell_type": "code",
   "execution_count": 7,
   "id": "0f2e401a",
   "metadata": {
    "execution": {
     "iopub.execute_input": "2022-09-12T23:06:34.071995Z",
     "iopub.status.busy": "2022-09-12T23:06:34.071634Z",
     "iopub.status.idle": "2022-09-12T23:06:34.763601Z",
     "shell.execute_reply": "2022-09-12T23:06:34.762582Z"
    },
    "papermill": {
     "duration": 1.012892,
     "end_time": "2022-09-12T23:06:34.765938",
     "exception": false,
     "start_time": "2022-09-12T23:06:33.753046",
     "status": "completed"
    },
    "tags": []
   },
   "outputs": [],
   "source": [
    "#dataset\n",
    "class custom_dataset(Dataset):\n",
    "    def __init__(self,x,y=None):\n",
    "        self.x=x\n",
    "        self.y=y\n",
    "         \n",
    "    def __len__(self):\n",
    "        return len(self.x)\n",
    "        \n",
    "    def __getitem__(self,idx):\n",
    "        if self.y is None:\n",
    "            return self.x[idx]\n",
    "        return self.x[idx], self.y[idx]\n",
    "    \n",
    "\n",
    "train_dataset = custom_dataset(torch.tensor(train_review.ids),torch.tensor(train_review.sentiment))\n",
    "testset = custom_dataset(torch.tensor(test_review.ids))\n",
    "\n",
    "dt_length=len(train_dataset)\n",
    "trainset,valset = random_split(train_dataset, [int(dt_length*0.8), dt_length-int(dt_length*0.8)])"
   ]
  },
  {
   "cell_type": "code",
   "execution_count": 8,
   "id": "9c147c25",
   "metadata": {
    "execution": {
     "iopub.execute_input": "2022-09-12T23:06:35.383072Z",
     "iopub.status.busy": "2022-09-12T23:06:35.382717Z",
     "iopub.status.idle": "2022-09-12T23:06:35.391597Z",
     "shell.execute_reply": "2022-09-12T23:06:35.390603Z"
    },
    "papermill": {
     "duration": 0.317764,
     "end_time": "2022-09-12T23:06:35.393556",
     "exception": false,
     "start_time": "2022-09-12T23:06:35.075792",
     "status": "completed"
    },
    "tags": []
   },
   "outputs": [],
   "source": [
    "#model\n",
    "class lstm_model(nn.Module):\n",
    "    def __init__(self, vocab_size, embed_dim, hidden_dim, pad_index, n_layers, bidirectional, dropout_rate):\n",
    "        super(lstm_model, self).__init__()\n",
    "        \n",
    "        #don't consider this index in training phase (pad_index) \n",
    "        # in = [batch_size=64,   seq_length= 200 word]\n",
    "        # out = [batch_size=64,   seq_length= 200 word,   embed_dim=100]\n",
    "        self.embedding = nn.Embedding(num_embeddings=vocab_size, embedding_dim=embed_dim, padding_idx=pad_index,\n",
    "                                  _weight=None)\n",
    "        \n",
    "        # in = [batch_size=64,   seq_length= 200 word,   input_size=100] === one word[100 dim] is fed to the lstm\n",
    "        # out = [batch_size=64,   seq_length= 200 word,   hidden_size=au choix], h,c=(n_layers, batch_size, hidden_size)\n",
    "        self.lstm = nn.LSTM(input_size=embed_dim, hidden_size=hidden_dim ,num_layers=n_layers, bidirectional=bidirectional,\n",
    "                            dropout= dropout_rate, batch_first=True)\n",
    "        \n",
    "        self.linear = nn.Linear(2*hidden_dim if bidirectional else hidden_dim, num_classes)\n",
    "        self.dropout = nn.Dropout(dropout_rate)\n",
    "        self.sigmoid = nn.Sigmoid()\n",
    "                                        \n",
    "    def forward(self,ids):\n",
    "        \n",
    "        embedded = self.embedding(ids)\n",
    "        output, (hidden, cell) = self.lstm(embedded)\n",
    "        if bidirectional:\n",
    "            hidden = hidden[-2:].transpose(0,1).reshape(-1,2*hidden_dim)\n",
    "        else:\n",
    "            hidden = hidden[-1]\n",
    "        ds = self.linear(hidden)\n",
    "#         drop = self.dropout(ds)\n",
    "        result = self.sigmoid(ds)\n",
    "        \n",
    "        return result"
   ]
  },
  {
   "cell_type": "code",
   "execution_count": 9,
   "id": "1ee68f95",
   "metadata": {
    "execution": {
     "iopub.execute_input": "2022-09-12T23:06:36.234165Z",
     "iopub.status.busy": "2022-09-12T23:06:36.233816Z",
     "iopub.status.idle": "2022-09-12T23:06:42.679629Z",
     "shell.execute_reply": "2022-09-12T23:06:42.678722Z"
    },
    "papermill": {
     "duration": 6.893053,
     "end_time": "2022-09-12T23:06:42.682000",
     "exception": false,
     "start_time": "2022-09-12T23:06:35.788947",
     "status": "completed"
    },
    "tags": []
   },
   "outputs": [
    {
     "data": {
      "text/plain": [
       "CrossEntropyLoss()"
      ]
     },
     "execution_count": 9,
     "metadata": {},
     "output_type": "execute_result"
    }
   ],
   "source": [
    "# Parameters\n",
    "vocab_size = len(vocab)\n",
    "embed_dim = 300\n",
    "hidden_dim = 300\n",
    "num_classes = 2\n",
    "n_layers = 2\n",
    "bidirectional = False\n",
    "dropout_rate = 0.5\n",
    "pad_index = vocab['<pad>']\n",
    "lr = 5e-4\n",
    "epochs=20\n",
    "batch=8\n",
    "#set trainable to True for trainable word embedding, and to false for using pretrained embeddings\n",
    "trainable=False\n",
    "\n",
    "\n",
    "#dataloader\n",
    "train_loader = DataLoader(trainset, batch_size=batch, shuffle=True)\n",
    "val_loader = DataLoader(valset, batch_size=batch, shuffle=True)\n",
    "\n",
    "\n",
    "model = lstm_model(vocab_size, embed_dim, hidden_dim, pad_index, n_layers, bidirectional, dropout_rate)\n",
    "if not trainable:\n",
    "    embeddings_weights = glove_vectors.get_vecs_by_tokens(vocab.get_itos())\n",
    "    model.embedding.from_pretrained(embeddings_weights, freeze=True)\n",
    "    \n",
    "model = model.to(device)\n",
    "\n",
    "opt = torch.optim.Adam(model.parameters(), lr=lr)\n",
    "loss_fn = nn.CrossEntropyLoss()\n",
    "loss_fn.to(device)"
   ]
  },
  {
   "cell_type": "code",
   "execution_count": 10,
   "id": "2571bc46",
   "metadata": {
    "execution": {
     "iopub.execute_input": "2022-09-12T23:06:43.296963Z",
     "iopub.status.busy": "2022-09-12T23:06:43.296153Z",
     "iopub.status.idle": "2022-09-12T23:06:43.309354Z",
     "shell.execute_reply": "2022-09-12T23:06:43.308419Z"
    },
    "papermill": {
     "duration": 0.321722,
     "end_time": "2022-09-12T23:06:43.311449",
     "exception": false,
     "start_time": "2022-09-12T23:06:42.989727",
     "status": "completed"
    },
    "tags": []
   },
   "outputs": [],
   "source": [
    "def get_accuracy(yp,yt):\n",
    "    cm = (torch.argmax(yp, dim=1)==yt).sum()\n",
    "    count=len(yp)\n",
    "    return cm, count\n",
    "\n",
    "def train_one_epoch():\n",
    "    batches_loss=[]\n",
    "    numer = 0\n",
    "    denom = 0\n",
    "    for batch_x, batch_y in train_loader:\n",
    "        batch_x=batch_x.to(device)\n",
    "        batch_y=batch_y.to(device)\n",
    "        model.train()\n",
    "        y_hat=model(batch_x)\n",
    "        loss=loss_fn(y_hat, batch_y)\n",
    "        cm, count=get_accuracy(y_hat,batch_y)\n",
    "        numer+=cm\n",
    "        denom+=count\n",
    "        loss.backward()\n",
    "        opt.step()\n",
    "        opt.zero_grad()\n",
    "        batches_loss.append(loss.item())\n",
    "    return np.mean(batches_loss), (numer/denom).item()\n",
    "\n",
    "@torch.no_grad()\n",
    "def evaluate_one_epoch():\n",
    "    batches_loss=[]\n",
    "    numer = 0\n",
    "    denom = 0\n",
    "    for batch_x, batch_y in val_loader:\n",
    "        batch_x=batch_x.to(device)\n",
    "        batch_y=batch_y.to(device)\n",
    "        model.eval()\n",
    "        y_hat=model(batch_x)\n",
    "        loss=loss_fn(y_hat, batch_y)\n",
    "        batches_loss.append(loss.item())\n",
    "        cm, count=get_accuracy(y_hat,batch_y)\n",
    "        numer+=cm\n",
    "        denom+=count\n",
    "    return np.mean(batches_loss), (numer/denom).item()\n",
    "\n",
    "\n",
    "def fit_model(epochs):\n",
    "    print(\"Training...\")\n",
    "    train_accuracy = []\n",
    "    train_losses = []\n",
    "    val_accuracy = []\n",
    "    val_losses = []\n",
    "    for epoch in range(epochs):\n",
    "        train_loss, tr_acc = train_one_epoch()\n",
    "        train_losses.append(train_loss)\n",
    "        train_accuracy.append(tr_acc)\n",
    "        val_loss, val_acc = evaluate_one_epoch()\n",
    "        val_losses.append(val_loss)\n",
    "        val_accuracy.append(val_acc)\n",
    "        print(f\"epoch {epoch+1}/{epochs}:  train loss: {train_loss: >6.4f},  train acc: {tr_acc: >6.4f} ================ val loss: {val_loss: >6.4f},  val acc: {val_acc: >6.4f}\")\n",
    "    return train_losses, val_losses, train_accuracy, val_accuracy\n"
   ]
  },
  {
   "cell_type": "code",
   "execution_count": 11,
   "id": "522d8afc",
   "metadata": {
    "execution": {
     "iopub.execute_input": "2022-09-12T23:06:43.975705Z",
     "iopub.status.busy": "2022-09-12T23:06:43.975337Z",
     "iopub.status.idle": "2022-09-12T23:06:43.980766Z",
     "shell.execute_reply": "2022-09-12T23:06:43.979785Z"
    },
    "papermill": {
     "duration": 0.365723,
     "end_time": "2022-09-12T23:06:43.984354",
     "exception": false,
     "start_time": "2022-09-12T23:06:43.618631",
     "status": "completed"
    },
    "tags": []
   },
   "outputs": [
    {
     "name": "stdout",
     "output_type": "stream",
     "text": [
      "lstm_model(\n",
      "  (embedding): Embedding(44910, 300, padding_idx=1)\n",
      "  (lstm): LSTM(300, 300, num_layers=2, batch_first=True, dropout=0.5)\n",
      "  (linear): Linear(in_features=300, out_features=2, bias=True)\n",
      "  (dropout): Dropout(p=0.5, inplace=False)\n",
      "  (sigmoid): Sigmoid()\n",
      ")\n"
     ]
    }
   ],
   "source": [
    "print(model)"
   ]
  },
  {
   "cell_type": "code",
   "execution_count": 12,
   "id": "088ce1b4",
   "metadata": {
    "execution": {
     "iopub.execute_input": "2022-09-12T23:06:44.603766Z",
     "iopub.status.busy": "2022-09-12T23:06:44.603411Z",
     "iopub.status.idle": "2022-09-12T23:06:45.005621Z",
     "shell.execute_reply": "2022-09-12T23:06:45.004635Z"
    },
    "papermill": {
     "duration": 0.715723,
     "end_time": "2022-09-12T23:06:45.007722",
     "exception": false,
     "start_time": "2022-09-12T23:06:44.291999",
     "status": "completed"
    },
    "tags": []
   },
   "outputs": [
    {
     "data": {
      "text/plain": [
       "63"
      ]
     },
     "execution_count": 12,
     "metadata": {},
     "output_type": "execute_result"
    }
   ],
   "source": [
    "gc.collect()"
   ]
  },
  {
   "cell_type": "code",
   "execution_count": 13,
   "id": "fac8823a",
   "metadata": {
    "execution": {
     "iopub.execute_input": "2022-09-12T23:06:45.837509Z",
     "iopub.status.busy": "2022-09-12T23:06:45.836900Z",
     "iopub.status.idle": "2022-09-12T23:28:06.099690Z",
     "shell.execute_reply": "2022-09-12T23:28:06.098695Z"
    },
    "papermill": {
     "duration": 1281.037371,
     "end_time": "2022-09-12T23:28:06.401630",
     "exception": false,
     "start_time": "2022-09-12T23:06:45.364259",
     "status": "completed"
    },
    "tags": []
   },
   "outputs": [
    {
     "name": "stdout",
     "output_type": "stream",
     "text": [
      "Training...\n",
      "epoch 1/20:  train loss: 0.6932,  train acc: 0.5051 ================ val loss: 0.6932,  val acc: 0.4902\n",
      "epoch 2/20:  train loss: 0.6932,  train acc: 0.5020 ================ val loss: 0.6931,  val acc: 0.5170\n",
      "epoch 3/20:  train loss: 0.6932,  train acc: 0.5015 ================ val loss: 0.6932,  val acc: 0.4902\n",
      "epoch 4/20:  train loss: 0.6932,  train acc: 0.5033 ================ val loss: 0.6928,  val acc: 0.5098\n",
      "epoch 5/20:  train loss: 0.6909,  train acc: 0.5342 ================ val loss: 0.6943,  val acc: 0.4978\n",
      "epoch 6/20:  train loss: 0.6869,  train acc: 0.5278 ================ val loss: 0.6915,  val acc: 0.5316\n",
      "epoch 7/20:  train loss: 0.6815,  train acc: 0.5490 ================ val loss: 0.6135,  val acc: 0.6888\n",
      "epoch 8/20:  train loss: 0.5830,  train acc: 0.7221 ================ val loss: 0.5488,  val acc: 0.7572\n",
      "epoch 9/20:  train loss: 0.5202,  train acc: 0.7853 ================ val loss: 0.5189,  val acc: 0.7824\n",
      "epoch 10/20:  train loss: 0.4785,  train acc: 0.8268 ================ val loss: 0.5254,  val acc: 0.7818\n",
      "epoch 11/20:  train loss: 0.4598,  train acc: 0.8485 ================ val loss: 0.4827,  val acc: 0.8246\n",
      "epoch 12/20:  train loss: 0.4273,  train acc: 0.8814 ================ val loss: 0.4669,  val acc: 0.8432\n",
      "epoch 13/20:  train loss: 0.4051,  train acc: 0.9057 ================ val loss: 0.4740,  val acc: 0.8316\n",
      "epoch 14/20:  train loss: 0.3931,  train acc: 0.9184 ================ val loss: 0.4588,  val acc: 0.8494\n",
      "epoch 15/20:  train loss: 0.3836,  train acc: 0.9282 ================ val loss: 0.4605,  val acc: 0.8490\n",
      "epoch 16/20:  train loss: 0.3757,  train acc: 0.9367 ================ val loss: 0.4568,  val acc: 0.8520\n",
      "epoch 17/20:  train loss: 0.3707,  train acc: 0.9422 ================ val loss: 0.4581,  val acc: 0.8528\n",
      "epoch 18/20:  train loss: 0.3702,  train acc: 0.9422 ================ val loss: 0.4607,  val acc: 0.8492\n",
      "epoch 19/20:  train loss: 0.3625,  train acc: 0.9503 ================ val loss: 0.4564,  val acc: 0.8554\n",
      "epoch 20/20:  train loss: 0.3591,  train acc: 0.9538 ================ val loss: 0.4622,  val acc: 0.8492\n"
     ]
    }
   ],
   "source": [
    "train_losses, val_losses, train_accuracy, val_accuracy = fit_model(epochs)"
   ]
  },
  {
   "cell_type": "code",
   "execution_count": 14,
   "id": "9446a2f8",
   "metadata": {
    "execution": {
     "iopub.execute_input": "2022-09-12T23:28:07.243331Z",
     "iopub.status.busy": "2022-09-12T23:28:07.242765Z",
     "iopub.status.idle": "2022-09-12T23:28:07.639076Z",
     "shell.execute_reply": "2022-09-12T23:28:07.638088Z"
    },
    "papermill": {
     "duration": 0.885087,
     "end_time": "2022-09-12T23:28:07.641084",
     "exception": false,
     "start_time": "2022-09-12T23:28:06.755997",
     "status": "completed"
    },
    "tags": []
   },
   "outputs": [
    {
     "data": {
      "image/png": "[encoded data removed]",
      "text/plain": [
       "<Figure size 1224x432 with 2 Axes>"
      ]
     },
     "metadata": {
      "needs_background": "light"
     },
     "output_type": "display_data"
    }
   ],
   "source": [
    "fig, ax=plt.subplots(1,2, figsize=(17,6))\n",
    "ax[0].plot(range(epochs), train_losses, label=\"Train loss\")\n",
    "ax[0].plot(range(epochs), val_losses, label=\"Validation loss\")\n",
    "ax[0].set_xlabel(\"epoch\")\n",
    "ax[0].legend()\n",
    "ax[1].plot(range(epochs), train_accuracy, label=\"Train accuracy\")\n",
    "ax[1].set_xlabel(\"epoch\")\n",
    "ax[1].plot(range(epochs), val_accuracy, label=\"Validation accuracy\")\n",
    "ax[1].legend()\n",
    "plt.show()"
   ]
  },
  {
   "cell_type": "markdown",
   "id": "851243c2",
   "metadata": {
    "papermill": {
     "duration": 0.299313,
     "end_time": "2022-09-12T23:28:08.289679",
     "exception": false,
     "start_time": "2022-09-12T23:28:07.990366",
     "status": "completed"
    },
    "tags": []
   },
   "source": [
    "# Test"
   ]
  },
  {
   "cell_type": "code",
   "execution_count": 15,
   "id": "5c1cef48",
   "metadata": {
    "execution": {
     "iopub.execute_input": "2022-09-12T23:28:08.896028Z",
     "iopub.status.busy": "2022-09-12T23:28:08.895659Z",
     "iopub.status.idle": "2022-09-12T23:28:08.900468Z",
     "shell.execute_reply": "2022-09-12T23:28:08.899460Z"
    },
    "papermill": {
     "duration": 0.312085,
     "end_time": "2022-09-12T23:28:08.902500",
     "exception": false,
     "start_time": "2022-09-12T23:28:08.590415",
     "status": "completed"
    },
    "tags": []
   },
   "outputs": [],
   "source": [
    "test_loader = DataLoader(testset, batch_size=batch, shuffle=False)"
   ]
  },
  {
   "cell_type": "code",
   "execution_count": 16,
   "id": "8d417a73",
   "metadata": {
    "execution": {
     "iopub.execute_input": "2022-09-12T23:28:09.554162Z",
     "iopub.status.busy": "2022-09-12T23:28:09.553800Z",
     "iopub.status.idle": "2022-09-12T23:28:26.283630Z",
     "shell.execute_reply": "2022-09-12T23:28:26.282620Z"
    },
    "papermill": {
     "duration": 17.034265,
     "end_time": "2022-09-12T23:28:26.286147",
     "exception": false,
     "start_time": "2022-09-12T23:28:09.251882",
     "status": "completed"
    },
    "tags": []
   },
   "outputs": [],
   "source": [
    "pred=[]\n",
    "with torch.no_grad():\n",
    "    model.eval()\n",
    "    for xbatch in test_loader:\n",
    "        xbatch = xbatch.to(device)\n",
    "        y_pred = model(xbatch)\n",
    "        pred.append(y_pred)\n",
    "        \n",
    "pred = torch.row_stack(pred)"
   ]
  },
  {
   "cell_type": "code",
   "execution_count": 17,
   "id": "7263a2eb",
   "metadata": {
    "execution": {
     "iopub.execute_input": "2022-09-12T23:28:26.886154Z",
     "iopub.status.busy": "2022-09-12T23:28:26.885793Z",
     "iopub.status.idle": "2022-09-12T23:28:26.892711Z",
     "shell.execute_reply": "2022-09-12T23:28:26.891830Z"
    },
    "papermill": {
     "duration": 0.308397,
     "end_time": "2022-09-12T23:28:26.894758",
     "exception": false,
     "start_time": "2022-09-12T23:28:26.586361",
     "status": "completed"
    },
    "tags": []
   },
   "outputs": [],
   "source": [
    "test_review[\"sentiment\"]=torch.argmax(pred, dim=1).cpu()"
   ]
  },
  {
   "cell_type": "code",
   "execution_count": 18,
   "id": "c0c89917",
   "metadata": {
    "execution": {
     "iopub.execute_input": "2022-09-12T23:28:27.542746Z",
     "iopub.status.busy": "2022-09-12T23:28:27.541784Z",
     "iopub.status.idle": "2022-09-12T23:28:27.546350Z",
     "shell.execute_reply": "2022-09-12T23:28:27.545394Z"
    },
    "papermill": {
     "duration": 0.351034,
     "end_time": "2022-09-12T23:28:27.548350",
     "exception": false,
     "start_time": "2022-09-12T23:28:27.197316",
     "status": "completed"
    },
    "tags": []
   },
   "outputs": [],
   "source": [
    "# submission\n",
    "# test_review[[\"id\",\"sentiment\"]].to_csv('submission.csv', index=False, header=True)"
   ]
  },
  {
   "cell_type": "code",
   "execution_count": null,
   "id": "ab717196",
   "metadata": {
    "papermill": {
     "duration": 0.299124,
     "end_time": "2022-09-12T23:28:28.150615",
     "exception": false,
     "start_time": "2022-09-12T23:28:27.851491",
     "status": "completed"
    },
    "tags": []
   },
   "outputs": [],
   "source": []
  }
 ],
 "metadata": {
  "kernelspec": {
   "display_name": "Python 3",
   "language": "python",
   "name": "python3"
  },
  "language_info": {
   "codemirror_mode": {
    "name": "ipython",
    "version": 3
   },
   "file_extension": ".py",
   "mimetype": "text/x-python",
   "name": "python",
   "nbconvert_exporter": "python",
   "pygments_lexer": "ipython3",
   "version": "3.7.12"
  },
  "papermill": {
   "default_parameters": {},
   "duration": 2058.450809,
   "end_time": "2022-09-12T23:28:31.600238",
   "environment_variables": {},
   "exception": null,
   "input_path": "__notebook__.ipynb",
   "output_path": "__notebook__.ipynb",
   "parameters": {},
   "start_time": "2022-09-12T22:54:13.149429",
   "version": "2.3.4"
  }
 },
 "nbformat": 4,
 "nbformat_minor": 5
}
